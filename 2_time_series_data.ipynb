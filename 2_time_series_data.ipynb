{
 "cells": [
  {
   "cell_type": "markdown",
   "metadata": {},
   "source": [
    "# P03 - Time series analysis with Pandas"
   ]
  },
  {
   "cell_type": "markdown",
   "metadata": {},
   "source": [
    "This tutorial introduces the time-series analysis features of Python.  It introduces the Datetime object, which handles calculations involving periods of time.  The Pandas module introduces two new objects: Dataframes, which are tables of data, and Series, which represent a single column or row.  We take advantage Pandas' datetime-based indexing to process time-series data."
   ]
  },
  {
   "cell_type": "markdown",
   "metadata": {},
   "source": [
    "### Setting up"
   ]
  },
  {
   "cell_type": "code",
   "execution_count": null,
   "metadata": {},
   "outputs": [],
   "source": [
    "# Import modules\n",
    "import datetime as dt\n",
    "import os\n",
    "import sys\n",
    "import pandas as pd\n",
    "import numpy as np\n",
    "import matplotlib.pyplot as plt\n",
    "\n",
    "\n",
    "# Show plots within notebooks\n",
    "%matplotlib inline\n",
    "\n",
    "# Show module versions\n",
    "print('Python: {}'.format(sys.version))\n",
    "print('Pandas: {}'.format(pd.__version__))\n",
    "print('Numpy: {}'.format(np.__version__))\n",
    "from matplotlib import __version__ as mplv\n",
    "print('Matplotlib: {}'.format(mplv))\n",
    "\n",
    "# Setup working directory\n",
    "wdir = os.getcwd()  # Change this if required\n",
    "os.chdir(wdir)"
   ]
  },
  {
   "cell_type": "markdown",
   "metadata": {},
   "source": [
    "### Creating datetime objects"
   ]
  },
  {
   "cell_type": "code",
   "execution_count": null,
   "metadata": {},
   "outputs": [],
   "source": [
    "#  Directly enter year, month, day, hour etc.\n",
    "dt.datetime(1955, 11, 12, 22, 4, 0)"
   ]
  },
  {
   "cell_type": "code",
   "execution_count": null,
   "metadata": {},
   "outputs": [],
   "source": [
    "#  Read from formatted text string (See strftime.org for codes)\n",
    "dt.datetime.strptime('26 October 1985, 01:21:59 am', '%d %B %Y, %I:%M:%S %p')"
   ]
  },
  {
   "cell_type": "code",
   "execution_count": null,
   "metadata": {},
   "outputs": [],
   "source": [
    "#  Get current time from function\n",
    "dt.datetime.now()"
   ]
  },
  {
   "cell_type": "markdown",
   "metadata": {},
   "source": [
    "### Timedelta objects represent time spans"
   ]
  },
  {
   "cell_type": "code",
   "execution_count": null,
   "metadata": {},
   "outputs": [],
   "source": [
    "#  Timedelta objects represent the difference between to datetimes.\n",
    "departure = dt.datetime.strptime('26 October 1985, 01:21:59 am', '%d %B %Y, %I:%M:%S %p')\n",
    "delta = dt.datetime.now() - departure\n",
    "print(delta)"
   ]
  },
  {
   "cell_type": "code",
   "execution_count": null,
   "metadata": {},
   "outputs": [],
   "source": [
    "#  You can define timedelta based on number of days, seconds and microseconds.  (Why not months or years?)\n",
    "delta = dt.timedelta(1, 1, 1)\n",
    "print(delta)"
   ]
  },
  {
   "cell_type": "code",
   "execution_count": null,
   "metadata": {},
   "outputs": [],
   "source": [
    "#  You can specify them by named keys\n",
    "delta = dt.timedelta(seconds=864000)\n",
    "print(delta)"
   ]
  },
  {
   "cell_type": "code",
   "execution_count": null,
   "metadata": {},
   "outputs": [],
   "source": [
    "#  The total_seconds() function converts into seconds.  (Python 2.7)\n",
    "delta = dt.timedelta(1, 1, 1)\n",
    "print(delta.total_seconds())"
   ]
  },
  {
   "cell_type": "markdown",
   "metadata": {},
   "source": [
    "### Extracting information from datetime objects"
   ]
  },
  {
   "cell_type": "code",
   "execution_count": null,
   "metadata": {},
   "outputs": [],
   "source": [
    "#  Year, month, day etc. are attributes of the object\n",
    "arrival = dt.datetime(1955, 11, 12, 22, 4, 0)\n",
    "print(arrival.year)\n",
    "print(arrival.hour)"
   ]
  },
  {
   "cell_type": "code",
   "execution_count": null,
   "metadata": {},
   "outputs": [],
   "source": [
    "#  There are methods calculate number of days since Jan 01, 1 A.D.\n",
    "print(arrival.toordinal())"
   ]
  },
  {
   "cell_type": "code",
   "execution_count": null,
   "metadata": {},
   "outputs": [],
   "source": [
    "#  Or the day of the week (Monday = 0)\n",
    "print(arrival.weekday())"
   ]
  },
  {
   "cell_type": "code",
   "execution_count": null,
   "metadata": {},
   "outputs": [],
   "source": [
    "#  The .strftime method writes a string in the specified format\n",
    "arrival.strftime('%Y-%m-%d %H:%M:%S')"
   ]
  },
  {
   "cell_type": "markdown",
   "metadata": {},
   "source": [
    "### Datetime Exercises"
   ]
  },
  {
   "cell_type": "markdown",
   "metadata": {},
   "source": [
    "1. Was Marty McFly's journey Back to the Future (departure and arrival times are defined above)\n",
    "   longer or shorter than if he had travelled to now?\n",
    "2. When will you be (or were you) 1 billion seconds old?\n",
    "3. Change the arrival.strftime() string to print the arrival date as \"04 minutes past 10 on 12 November 1955\"."
   ]
  },
  {
   "cell_type": "markdown",
   "metadata": {},
   "source": [
    "### Loading time series data in Pandas"
   ]
  },
  {
   "cell_type": "markdown",
   "metadata": {},
   "source": [
    "This example uses temperatures of steam vents (fumaroles) on the crater of Volcán de Colima, Mexico, as measured by infrared camera during a night in 2006."
   ]
  },
  {
   "cell_type": "code",
   "execution_count": null,
   "metadata": {},
   "outputs": [],
   "source": [
    "#  Create a Pandas dataframe reading data from a .csv file.  It can translate dates into datetime objects\n",
    "infraredData = pd.read_csv('InfraredCameraData.csv', parse_dates=[0])\n",
    "infraredData.set_index('DateTime', inplace=True)  # Set the datetime column as the index\n",
    "infraredData.head(10)  # Print the first 10 values"
   ]
  },
  {
   "cell_type": "code",
   "execution_count": null,
   "metadata": {},
   "outputs": [],
   "source": [
    "#  Plot the time series.\n",
    "infraredData.plot()\n",
    "plt.savefig('graph.png')"
   ]
  },
  {
   "cell_type": "code",
   "execution_count": null,
   "metadata": {},
   "outputs": [],
   "source": [
    "#  Extract a column as a data series with dictionary-like notation\n",
    "e_flank = infraredData['EFlankAvg']\n",
    "e_flank.head()"
   ]
  },
  {
   "cell_type": "code",
   "execution_count": null,
   "metadata": {},
   "outputs": [],
   "source": [
    "#  Extract 1 minute worth of rows by slicing the index with datetimes\n",
    "rows = infraredData[dt.datetime(2006, 5, 23, 4, 0):dt.datetime(2006, 5, 23, 4, 1)]\n",
    "rows"
   ]
  },
  {
   "cell_type": "markdown",
   "metadata": {},
   "source": [
    "### When was the explosion?"
   ]
  },
  {
   "cell_type": "code",
   "execution_count": null,
   "metadata": {},
   "outputs": [],
   "source": [
    "#  Find the row corresponding to the explosion (where temperature is max temperature)\n",
    "explosion_status = infraredData['CraterMax'] == infraredData['CraterMax'].max()\n",
    "explosion_status.head()  # This Series has False for all rows, except for the explosion"
   ]
  },
  {
   "cell_type": "code",
   "execution_count": null,
   "metadata": {},
   "outputs": [],
   "source": [
    "#  Extract the timestamp\n",
    "explosion_time = infraredData.index[explosion_status]  # Get index values where explosion_status is True\n",
    "explosion_time[0]  # Extract the first (only) value"
   ]
  },
  {
   "cell_type": "code",
   "execution_count": null,
   "metadata": {},
   "outputs": [],
   "source": [
    "#  Add a column for the 2-minute rolling mean of the CraterMax temperature\n",
    "rolling_mean = infraredData.rolling(center=False, window=24)  # 24 x 5 second intervals\n",
    "infraredData['CraterMaxRolling'] = rolling_mean['CraterMax']\n",
    "infraredData.plot()"
   ]
  },
  {
   "cell_type": "markdown",
   "metadata": {},
   "source": [
    "### Calculating the mean fumarole temperatures"
   ]
  },
  {
   "cell_type": "markdown",
   "metadata": {},
   "source": [
    "#### You can't trust daytime data because the sun heats the rocks"
   ]
  },
  {
   "cell_type": "code",
   "execution_count": null,
   "metadata": {},
   "outputs": [],
   "source": [
    "#  Use time index slicing to select time when data unaffected by sunlight or explosions (02:50 to 05:50).\n",
    "night = infraredData['2006-05-23 02:50':'2006-05-23 05:50']\n",
    "night.plot()"
   ]
  },
  {
   "cell_type": "markdown",
   "metadata": {},
   "source": [
    "#### Clouds passing into view cause the temperature to drop and vary rapidly"
   ]
  },
  {
   "cell_type": "code",
   "execution_count": null,
   "metadata": {},
   "outputs": [],
   "source": [
    "#  Drop data where clouds obscure the crater (and max temperature appears below 28°C)\n",
    "no_clouds = night[night['CraterMax'] > 28]\n",
    "no_clouds.plot()"
   ]
  },
  {
   "cell_type": "code",
   "execution_count": null,
   "metadata": {},
   "outputs": [],
   "source": [
    "#  Resample to take 2 minute maximum values, dropping other cloud noise\n",
    "max_2mins = no_clouds.resample('2min').max()\n",
    "max_2mins.plot()"
   ]
  },
  {
   "cell_type": "code",
   "execution_count": null,
   "metadata": {},
   "outputs": [],
   "source": [
    "# The following are the fumarole temperature statistics for one night, unaffected by explosions, solar heating or sunshine\n",
    "# A time series of these results shows long term changes at the volcano.\n",
    "max_2mins.describe()"
   ]
  },
  {
   "cell_type": "markdown",
   "metadata": {},
   "source": [
    "# Exercises"
   ]
  },
  {
   "cell_type": "markdown",
   "metadata": {},
   "source": [
    "1. What percentage of the original data have we used in the max_2mins data?\n",
    "2. Drop data within 10 minutes of explosion_time from infraredData"
   ]
  },
  {
   "cell_type": "markdown",
   "metadata": {},
   "source": [
    "### _Footnote_\n",
    "This analysis was the reason that I learned programming in the first place.  The time series datasets were just too large for Excel.  I learned Matlab to do it.  It took months and was hundreds of lines of code.  The simplicity of the Python version really highlights for me how scientific computing has come on in a decade.  For full results, see:\n",
    "+ Stevenson, J. A., and N. Varley (2008), Fumarole monitoring with a handheld infrared camera: Volcán de Colima, Mexico, 2006-2007, Journal of Volcanology and Geothermal Research, 177(4), 911-924, doi:[10.1016/j.jvolgeores.2008.07.003](http://dx.doi.org/10.1016/j.jvolgeores.2008.07.003)."
   ]
  }
 ],
 "metadata": {
  "kernelspec": {
   "display_name": "Python 3",
   "language": "python",
   "name": "python3"
  },
  "language_info": {
   "codemirror_mode": {
    "name": "ipython",
    "version": 3
   },
   "file_extension": ".py",
   "mimetype": "text/x-python",
   "name": "python",
   "nbconvert_exporter": "python",
   "pygments_lexer": "ipython3",
   "version": "3.5.3"
  }
 },
 "nbformat": 4,
 "nbformat_minor": 1
}
