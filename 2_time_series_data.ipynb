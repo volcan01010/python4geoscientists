{
 "cells": [
  {
   "cell_type": "markdown",
   "metadata": {},
   "source": [
    "# P03 - Time series analysis with Pandas"
   ]
  },
  {
   "cell_type": "markdown",
   "metadata": {},
   "source": [
    "This tutorial introduces the time-series analysis features of Python.  It introduces the Datetime object, which handles calculations involving periods of time.  The Pandas module introduces two new objects: Dataframes, which are tables of data, and Series, which represent a single column or row.  We take advantage Pandas' datetime-based indexing to process time-series data."
   ]
  },
  {
   "cell_type": "markdown",
   "metadata": {},
   "source": [
    "### Setting up"
   ]
  },
  {
   "cell_type": "code",
   "execution_count": 1,
   "metadata": {},
   "outputs": [
    {
     "name": "stdout",
     "output_type": "stream",
     "text": [
      "Python: 3.8.10 (default, Jun  2 2021, 10:49:15) \n",
      "[GCC 9.4.0]\n",
      "Pandas: 1.3.0\n",
      "Numpy: 1.21.0\n",
      "Matplotlib: 3.4.2\n"
     ]
    }
   ],
   "source": [
    "# Import modules\n",
    "import datetime as dt\n",
    "import os\n",
    "import sys\n",
    "import pandas as pd\n",
    "import numpy as np\n",
    "import matplotlib.pyplot as plt\n",
    "\n",
    "\n",
    "# Show plots within notebooks\n",
    "%matplotlib inline\n",
    "\n",
    "# Show module versions\n",
    "print('Python: {}'.format(sys.version))\n",
    "print('Pandas: {}'.format(pd.__version__))\n",
    "print('Numpy: {}'.format(np.__version__))\n",
    "from matplotlib import __version__ as mplv\n",
    "print('Matplotlib: {}'.format(mplv))\n",
    "\n",
    "# Setup working directory\n",
    "wdir = os.getcwd()  # Change this if required\n",
    "data_dir = os.path.join(wdir, 'data_files')\n",
    "os.chdir(wdir)"
   ]
  },
  {
   "cell_type": "markdown",
   "metadata": {},
   "source": [
    "### Creating datetime objects"
   ]
  },
  {
   "cell_type": "code",
   "execution_count": 2,
   "metadata": {},
   "outputs": [
    {
     "data": {
      "text/plain": [
       "datetime.datetime(1955, 11, 12, 22, 4)"
      ]
     },
     "execution_count": 2,
     "metadata": {},
     "output_type": "execute_result"
    }
   ],
   "source": [
    "#  Directly enter year, month, day, hour etc.\n",
    "dt.datetime(1955, 11, 12, 22, 4, 0)"
   ]
  },
  {
   "cell_type": "code",
   "execution_count": 3,
   "metadata": {},
   "outputs": [
    {
     "data": {
      "text/plain": [
       "datetime.datetime(1985, 10, 26, 1, 21, 59)"
      ]
     },
     "execution_count": 3,
     "metadata": {},
     "output_type": "execute_result"
    }
   ],
   "source": [
    "#  Read from formatted text string (See strftime.org for codes)\n",
    "dt.datetime.strptime('26 October 1985, 01:21:59 am', '%d %B %Y, %I:%M:%S %p')"
   ]
  },
  {
   "cell_type": "code",
   "execution_count": 4,
   "metadata": {},
   "outputs": [
    {
     "data": {
      "text/plain": [
       "datetime.datetime(2021, 7, 9, 11, 27, 54, 229861)"
      ]
     },
     "execution_count": 4,
     "metadata": {},
     "output_type": "execute_result"
    }
   ],
   "source": [
    "#  Get current time from function\n",
    "dt.datetime.now()"
   ]
  },
  {
   "cell_type": "markdown",
   "metadata": {},
   "source": [
    "### Timedelta objects represent time spans"
   ]
  },
  {
   "cell_type": "code",
   "execution_count": 5,
   "metadata": {},
   "outputs": [
    {
     "name": "stdout",
     "output_type": "stream",
     "text": [
      "13040 days, 10:05:55.265049\n"
     ]
    }
   ],
   "source": [
    "#  Timedelta objects represent the difference between to datetimes.\n",
    "departure = dt.datetime.strptime('26 October 1985, 01:21:59 am', '%d %B %Y, %I:%M:%S %p')\n",
    "delta = dt.datetime.now() - departure\n",
    "print(delta)"
   ]
  },
  {
   "cell_type": "code",
   "execution_count": 6,
   "metadata": {},
   "outputs": [
    {
     "name": "stdout",
     "output_type": "stream",
     "text": [
      "1 day, 0:00:01.000001\n"
     ]
    }
   ],
   "source": [
    "#  You can define timedelta based on number of days, seconds and microseconds.  (Why not months or years?)\n",
    "delta = dt.timedelta(1, 1, 1)\n",
    "print(delta)"
   ]
  },
  {
   "cell_type": "code",
   "execution_count": 7,
   "metadata": {},
   "outputs": [
    {
     "name": "stdout",
     "output_type": "stream",
     "text": [
      "10 days, 0:00:00\n"
     ]
    }
   ],
   "source": [
    "#  You can specify them by named keys\n",
    "delta = dt.timedelta(seconds=864000)\n",
    "print(delta)"
   ]
  },
  {
   "cell_type": "code",
   "execution_count": 8,
   "metadata": {},
   "outputs": [
    {
     "name": "stdout",
     "output_type": "stream",
     "text": [
      "86401.000001\n"
     ]
    }
   ],
   "source": [
    "#  The total_seconds() function converts into seconds.  (Python 2.7)\n",
    "delta = dt.timedelta(1, 1, 1)\n",
    "print(delta.total_seconds())"
   ]
  },
  {
   "cell_type": "markdown",
   "metadata": {},
   "source": [
    "### Extracting information from datetime objects"
   ]
  },
  {
   "cell_type": "code",
   "execution_count": 9,
   "metadata": {},
   "outputs": [
    {
     "name": "stdout",
     "output_type": "stream",
     "text": [
      "1955\n",
      "22\n"
     ]
    }
   ],
   "source": [
    "#  Year, month, day etc. are attributes of the object\n",
    "arrival = dt.datetime(1955, 11, 12, 22, 4, 0)\n",
    "print(arrival.year)\n",
    "print(arrival.hour)"
   ]
  },
  {
   "cell_type": "code",
   "execution_count": 10,
   "metadata": {},
   "outputs": [
    {
     "name": "stdout",
     "output_type": "stream",
     "text": [
      "713999\n"
     ]
    }
   ],
   "source": [
    "#  There are methods calculate number of days since Jan 01, 1 A.D.\n",
    "print(arrival.toordinal())"
   ]
  },
  {
   "cell_type": "code",
   "execution_count": 11,
   "metadata": {},
   "outputs": [
    {
     "name": "stdout",
     "output_type": "stream",
     "text": [
      "5\n"
     ]
    }
   ],
   "source": [
    "#  Or the day of the week (Monday = 0)\n",
    "print(arrival.weekday())"
   ]
  },
  {
   "cell_type": "code",
   "execution_count": 12,
   "metadata": {},
   "outputs": [
    {
     "data": {
      "text/plain": [
       "'1955-11-12 22:04:00'"
      ]
     },
     "execution_count": 12,
     "metadata": {},
     "output_type": "execute_result"
    }
   ],
   "source": [
    "#  The .strftime method writes a string in the specified format\n",
    "arrival.strftime('%Y-%m-%d %H:%M:%S')"
   ]
  },
  {
   "cell_type": "markdown",
   "metadata": {},
   "source": [
    "### Datetime Exercises"
   ]
  },
  {
   "cell_type": "markdown",
   "metadata": {},
   "source": [
    "1. Was Marty McFly's journey Back to the Future (departure and arrival times are defined above)\n",
    "   longer or shorter than if he had travelled to now?\n",
    "2. When will you be (or were you) 1 billion seconds old?\n",
    "3. Change the arrival.strftime() string to print the arrival date as \"04 minutes past 10 on 12 November 1955\"."
   ]
  },
  {
   "cell_type": "markdown",
   "metadata": {},
   "source": [
    "### Loading time series data in Pandas"
   ]
  },
  {
   "cell_type": "markdown",
   "metadata": {},
   "source": [
    "This example uses temperatures of steam vents (fumaroles) on the crater of Volcán de Colima, Mexico, as measured by infrared camera during a night in 2006."
   ]
  },
  {
   "cell_type": "code",
   "execution_count": 13,
   "metadata": {},
   "outputs": [
    {
     "data": {
      "text/html": [
       "<div>\n",
       "<style scoped>\n",
       "    .dataframe tbody tr th:only-of-type {\n",
       "        vertical-align: middle;\n",
       "    }\n",
       "\n",
       "    .dataframe tbody tr th {\n",
       "        vertical-align: top;\n",
       "    }\n",
       "\n",
       "    .dataframe thead th {\n",
       "        text-align: right;\n",
       "    }\n",
       "</style>\n",
       "<table border=\"1\" class=\"dataframe\">\n",
       "  <thead>\n",
       "    <tr style=\"text-align: right;\">\n",
       "      <th></th>\n",
       "      <th>Fum1max</th>\n",
       "      <th>Fum2Max</th>\n",
       "      <th>Fum3Max</th>\n",
       "      <th>CraterMax</th>\n",
       "      <th>EFlankAvg</th>\n",
       "      <th>WFlankAvg</th>\n",
       "    </tr>\n",
       "    <tr>\n",
       "      <th>DateTime</th>\n",
       "      <th></th>\n",
       "      <th></th>\n",
       "      <th></th>\n",
       "      <th></th>\n",
       "      <th></th>\n",
       "      <th></th>\n",
       "    </tr>\n",
       "  </thead>\n",
       "  <tbody>\n",
       "    <tr>\n",
       "      <th>2006-05-23 02:30:28</th>\n",
       "      <td>20.4</td>\n",
       "      <td>14.4</td>\n",
       "      <td>7.5</td>\n",
       "      <td>20.4</td>\n",
       "      <td>-1.1</td>\n",
       "      <td>-1.7</td>\n",
       "    </tr>\n",
       "    <tr>\n",
       "      <th>2006-05-23 02:30:33</th>\n",
       "      <td>17.6</td>\n",
       "      <td>12.3</td>\n",
       "      <td>5.5</td>\n",
       "      <td>17.6</td>\n",
       "      <td>-1.7</td>\n",
       "      <td>-2.3</td>\n",
       "    </tr>\n",
       "    <tr>\n",
       "      <th>2006-05-23 02:30:38</th>\n",
       "      <td>11.5</td>\n",
       "      <td>7.4</td>\n",
       "      <td>2.4</td>\n",
       "      <td>11.5</td>\n",
       "      <td>-2.6</td>\n",
       "      <td>-2.7</td>\n",
       "    </tr>\n",
       "    <tr>\n",
       "      <th>2006-05-23 02:30:43</th>\n",
       "      <td>13.8</td>\n",
       "      <td>9.4</td>\n",
       "      <td>4.1</td>\n",
       "      <td>13.8</td>\n",
       "      <td>-2.5</td>\n",
       "      <td>-2.7</td>\n",
       "    </tr>\n",
       "    <tr>\n",
       "      <th>2006-05-23 02:30:48</th>\n",
       "      <td>14.1</td>\n",
       "      <td>9.0</td>\n",
       "      <td>3.9</td>\n",
       "      <td>14.1</td>\n",
       "      <td>-3.1</td>\n",
       "      <td>-3.8</td>\n",
       "    </tr>\n",
       "    <tr>\n",
       "      <th>2006-05-23 02:30:53</th>\n",
       "      <td>9.6</td>\n",
       "      <td>6.3</td>\n",
       "      <td>2.0</td>\n",
       "      <td>9.6</td>\n",
       "      <td>-3.4</td>\n",
       "      <td>-3.1</td>\n",
       "    </tr>\n",
       "    <tr>\n",
       "      <th>2006-05-23 02:30:58</th>\n",
       "      <td>21.1</td>\n",
       "      <td>15.8</td>\n",
       "      <td>8.4</td>\n",
       "      <td>21.1</td>\n",
       "      <td>-2.1</td>\n",
       "      <td>-0.6</td>\n",
       "    </tr>\n",
       "    <tr>\n",
       "      <th>2006-05-23 02:31:03</th>\n",
       "      <td>31.3</td>\n",
       "      <td>23.2</td>\n",
       "      <td>14.4</td>\n",
       "      <td>31.3</td>\n",
       "      <td>0.8</td>\n",
       "      <td>0.2</td>\n",
       "    </tr>\n",
       "    <tr>\n",
       "      <th>2006-05-23 02:31:08</th>\n",
       "      <td>31.9</td>\n",
       "      <td>23.9</td>\n",
       "      <td>14.8</td>\n",
       "      <td>31.9</td>\n",
       "      <td>-0.6</td>\n",
       "      <td>0.6</td>\n",
       "    </tr>\n",
       "    <tr>\n",
       "      <th>2006-05-23 02:31:13</th>\n",
       "      <td>30.9</td>\n",
       "      <td>23.4</td>\n",
       "      <td>14.4</td>\n",
       "      <td>30.9</td>\n",
       "      <td>-0.2</td>\n",
       "      <td>1.1</td>\n",
       "    </tr>\n",
       "  </tbody>\n",
       "</table>\n",
       "</div>"
      ],
      "text/plain": [
       "                     Fum1max  Fum2Max  Fum3Max  CraterMax  EFlankAvg  \\\n",
       "DateTime                                                               \n",
       "2006-05-23 02:30:28     20.4     14.4      7.5       20.4       -1.1   \n",
       "2006-05-23 02:30:33     17.6     12.3      5.5       17.6       -1.7   \n",
       "2006-05-23 02:30:38     11.5      7.4      2.4       11.5       -2.6   \n",
       "2006-05-23 02:30:43     13.8      9.4      4.1       13.8       -2.5   \n",
       "2006-05-23 02:30:48     14.1      9.0      3.9       14.1       -3.1   \n",
       "2006-05-23 02:30:53      9.6      6.3      2.0        9.6       -3.4   \n",
       "2006-05-23 02:30:58     21.1     15.8      8.4       21.1       -2.1   \n",
       "2006-05-23 02:31:03     31.3     23.2     14.4       31.3        0.8   \n",
       "2006-05-23 02:31:08     31.9     23.9     14.8       31.9       -0.6   \n",
       "2006-05-23 02:31:13     30.9     23.4     14.4       30.9       -0.2   \n",
       "\n",
       "                     WFlankAvg  \n",
       "DateTime                        \n",
       "2006-05-23 02:30:28       -1.7  \n",
       "2006-05-23 02:30:33       -2.3  \n",
       "2006-05-23 02:30:38       -2.7  \n",
       "2006-05-23 02:30:43       -2.7  \n",
       "2006-05-23 02:30:48       -3.8  \n",
       "2006-05-23 02:30:53       -3.1  \n",
       "2006-05-23 02:30:58       -0.6  \n",
       "2006-05-23 02:31:03        0.2  \n",
       "2006-05-23 02:31:08        0.6  \n",
       "2006-05-23 02:31:13        1.1  "
      ]
     },
     "execution_count": 13,
     "metadata": {},
     "output_type": "execute_result"
    }
   ],
   "source": [
    "#  Create a Pandas dataframe reading data from a .csv file.  It can translate dates into datetime objects\n",
    "infraredData = pd.read_csv(os.path.join(data_dir, 'infrared_camera_data.csv'), parse_dates=[0])\n",
    "infraredData.set_index('DateTime', inplace=True)  # Set the datetime column as the index\n",
    "infraredData.head(10)  # Print the first 10 values"
   ]
  },
  {
   "cell_type": "code",
   "execution_count": 14,
   "metadata": {},
   "outputs": [
    {
     "data": {
      "text/plain": [
       "<AxesSubplot:xlabel='DateTime'>"
      ]
     },
     "execution_count": 14,
     "metadata": {},
     "output_type": "execute_result"
    },
    {
     "data": {
      "image/png": "[encoded data removed]",
      "text/plain": [
       "<Figure size 432x288 with 1 Axes>"
      ]
     },
     "metadata": {
      "needs_background": "light"
     },
     "output_type": "display_data"
    }
   ],
   "source": [
    "#  Plot the time series.\n",
    "infraredData.plot()"
   ]
  },
  {
   "cell_type": "code",
   "execution_count": 15,
   "metadata": {},
   "outputs": [
    {
     "data": {
      "text/plain": [
       "DateTime\n",
       "2006-05-23 02:30:28   -1.1\n",
       "2006-05-23 02:30:33   -1.7\n",
       "2006-05-23 02:30:38   -2.6\n",
       "2006-05-23 02:30:43   -2.5\n",
       "2006-05-23 02:30:48   -3.1\n",
       "Name: EFlankAvg, dtype: float64"
      ]
     },
     "execution_count": 15,
     "metadata": {},
     "output_type": "execute_result"
    }
   ],
   "source": [
    "#  Extract a column as a data series with dictionary-like notation\n",
    "e_flank = infraredData['EFlankAvg']\n",
    "e_flank.head()"
   ]
  },
  {
   "cell_type": "code",
   "execution_count": 16,
   "metadata": {},
   "outputs": [
    {
     "data": {
      "text/html": [
       "<div>\n",
       "<style scoped>\n",
       "    .dataframe tbody tr th:only-of-type {\n",
       "        vertical-align: middle;\n",
       "    }\n",
       "\n",
       "    .dataframe tbody tr th {\n",
       "        vertical-align: top;\n",
       "    }\n",
       "\n",
       "    .dataframe thead th {\n",
       "        text-align: right;\n",
       "    }\n",
       "</style>\n",
       "<table border=\"1\" class=\"dataframe\">\n",
       "  <thead>\n",
       "    <tr style=\"text-align: right;\">\n",
       "      <th></th>\n",
       "      <th>Fum1max</th>\n",
       "      <th>Fum2Max</th>\n",
       "      <th>Fum3Max</th>\n",
       "      <th>CraterMax</th>\n",
       "      <th>EFlankAvg</th>\n",
       "      <th>WFlankAvg</th>\n",
       "    </tr>\n",
       "    <tr>\n",
       "      <th>DateTime</th>\n",
       "      <th></th>\n",
       "      <th></th>\n",
       "      <th></th>\n",
       "      <th></th>\n",
       "      <th></th>\n",
       "      <th></th>\n",
       "    </tr>\n",
       "  </thead>\n",
       "  <tbody>\n",
       "    <tr>\n",
       "      <th>2006-05-23 04:00:03</th>\n",
       "      <td>20.7</td>\n",
       "      <td>13.1</td>\n",
       "      <td>6.3</td>\n",
       "      <td>20.7</td>\n",
       "      <td>-1.2</td>\n",
       "      <td>-1.9</td>\n",
       "    </tr>\n",
       "    <tr>\n",
       "      <th>2006-05-23 04:00:08</th>\n",
       "      <td>18.4</td>\n",
       "      <td>11.4</td>\n",
       "      <td>4.8</td>\n",
       "      <td>18.4</td>\n",
       "      <td>-1.4</td>\n",
       "      <td>-2.1</td>\n",
       "    </tr>\n",
       "    <tr>\n",
       "      <th>2006-05-23 04:00:13</th>\n",
       "      <td>28.3</td>\n",
       "      <td>17.8</td>\n",
       "      <td>10.4</td>\n",
       "      <td>28.3</td>\n",
       "      <td>-1.7</td>\n",
       "      <td>-2.1</td>\n",
       "    </tr>\n",
       "    <tr>\n",
       "      <th>2006-05-23 04:00:18</th>\n",
       "      <td>32.6</td>\n",
       "      <td>22.2</td>\n",
       "      <td>12.9</td>\n",
       "      <td>32.6</td>\n",
       "      <td>1.0</td>\n",
       "      <td>0.2</td>\n",
       "    </tr>\n",
       "    <tr>\n",
       "      <th>2006-05-23 04:00:23</th>\n",
       "      <td>34.7</td>\n",
       "      <td>22.5</td>\n",
       "      <td>13.9</td>\n",
       "      <td>34.7</td>\n",
       "      <td>1.9</td>\n",
       "      <td>1.4</td>\n",
       "    </tr>\n",
       "    <tr>\n",
       "      <th>2006-05-23 04:00:28</th>\n",
       "      <td>34.8</td>\n",
       "      <td>23.1</td>\n",
       "      <td>13.9</td>\n",
       "      <td>34.8</td>\n",
       "      <td>2.0</td>\n",
       "      <td>1.7</td>\n",
       "    </tr>\n",
       "    <tr>\n",
       "      <th>2006-05-23 04:00:33</th>\n",
       "      <td>34.8</td>\n",
       "      <td>22.9</td>\n",
       "      <td>14.0</td>\n",
       "      <td>34.8</td>\n",
       "      <td>2.1</td>\n",
       "      <td>1.9</td>\n",
       "    </tr>\n",
       "    <tr>\n",
       "      <th>2006-05-23 04:00:38</th>\n",
       "      <td>34.9</td>\n",
       "      <td>23.1</td>\n",
       "      <td>13.9</td>\n",
       "      <td>34.9</td>\n",
       "      <td>2.1</td>\n",
       "      <td>2.0</td>\n",
       "    </tr>\n",
       "    <tr>\n",
       "      <th>2006-05-23 04:00:43</th>\n",
       "      <td>34.7</td>\n",
       "      <td>23.1</td>\n",
       "      <td>14.0</td>\n",
       "      <td>34.7</td>\n",
       "      <td>2.2</td>\n",
       "      <td>2.0</td>\n",
       "    </tr>\n",
       "    <tr>\n",
       "      <th>2006-05-23 04:00:48</th>\n",
       "      <td>33.5</td>\n",
       "      <td>22.7</td>\n",
       "      <td>13.3</td>\n",
       "      <td>33.5</td>\n",
       "      <td>2.2</td>\n",
       "      <td>1.8</td>\n",
       "    </tr>\n",
       "    <tr>\n",
       "      <th>2006-05-23 04:00:53</th>\n",
       "      <td>34.0</td>\n",
       "      <td>22.7</td>\n",
       "      <td>13.7</td>\n",
       "      <td>34.0</td>\n",
       "      <td>1.9</td>\n",
       "      <td>1.8</td>\n",
       "    </tr>\n",
       "    <tr>\n",
       "      <th>2006-05-23 04:00:58</th>\n",
       "      <td>33.5</td>\n",
       "      <td>22.4</td>\n",
       "      <td>13.4</td>\n",
       "      <td>33.5</td>\n",
       "      <td>1.8</td>\n",
       "      <td>1.7</td>\n",
       "    </tr>\n",
       "  </tbody>\n",
       "</table>\n",
       "</div>"
      ],
      "text/plain": [
       "                     Fum1max  Fum2Max  Fum3Max  CraterMax  EFlankAvg  \\\n",
       "DateTime                                                               \n",
       "2006-05-23 04:00:03     20.7     13.1      6.3       20.7       -1.2   \n",
       "2006-05-23 04:00:08     18.4     11.4      4.8       18.4       -1.4   \n",
       "2006-05-23 04:00:13     28.3     17.8     10.4       28.3       -1.7   \n",
       "2006-05-23 04:00:18     32.6     22.2     12.9       32.6        1.0   \n",
       "2006-05-23 04:00:23     34.7     22.5     13.9       34.7        1.9   \n",
       "2006-05-23 04:00:28     34.8     23.1     13.9       34.8        2.0   \n",
       "2006-05-23 04:00:33     34.8     22.9     14.0       34.8        2.1   \n",
       "2006-05-23 04:00:38     34.9     23.1     13.9       34.9        2.1   \n",
       "2006-05-23 04:00:43     34.7     23.1     14.0       34.7        2.2   \n",
       "2006-05-23 04:00:48     33.5     22.7     13.3       33.5        2.2   \n",
       "2006-05-23 04:00:53     34.0     22.7     13.7       34.0        1.9   \n",
       "2006-05-23 04:00:58     33.5     22.4     13.4       33.5        1.8   \n",
       "\n",
       "                     WFlankAvg  \n",
       "DateTime                        \n",
       "2006-05-23 04:00:03       -1.9  \n",
       "2006-05-23 04:00:08       -2.1  \n",
       "2006-05-23 04:00:13       -2.1  \n",
       "2006-05-23 04:00:18        0.2  \n",
       "2006-05-23 04:00:23        1.4  \n",
       "2006-05-23 04:00:28        1.7  \n",
       "2006-05-23 04:00:33        1.9  \n",
       "2006-05-23 04:00:38        2.0  \n",
       "2006-05-23 04:00:43        2.0  \n",
       "2006-05-23 04:00:48        1.8  \n",
       "2006-05-23 04:00:53        1.8  \n",
       "2006-05-23 04:00:58        1.7  "
      ]
     },
     "execution_count": 16,
     "metadata": {},
     "output_type": "execute_result"
    }
   ],
   "source": [
    "#  Extract 1 minute worth of rows by slicing the index with datetimes\n",
    "rows = infraredData[dt.datetime(2006, 5, 23, 4, 0):dt.datetime(2006, 5, 23, 4, 1)]\n",
    "rows"
   ]
  },
  {
   "cell_type": "markdown",
   "metadata": {},
   "source": [
    "### When was the explosion?"
   ]
  },
  {
   "cell_type": "code",
   "execution_count": 17,
   "metadata": {},
   "outputs": [
    {
     "data": {
      "text/plain": [
       "DateTime\n",
       "2006-05-23 02:30:28    False\n",
       "2006-05-23 02:30:33    False\n",
       "2006-05-23 02:30:38    False\n",
       "2006-05-23 02:30:43    False\n",
       "2006-05-23 02:30:48    False\n",
       "Name: CraterMax, dtype: bool"
      ]
     },
     "execution_count": 17,
     "metadata": {},
     "output_type": "execute_result"
    }
   ],
   "source": [
    "#  Find the row corresponding to the explosion (where temperature is max temperature)\n",
    "explosion_status = infraredData['CraterMax'] == infraredData['CraterMax'].max()\n",
    "explosion_status.head()  # This Series has False for all rows, except for the explosion"
   ]
  },
  {
   "cell_type": "code",
   "execution_count": 18,
   "metadata": {},
   "outputs": [
    {
     "data": {
      "text/plain": [
       "Timestamp('2006-05-23 05:53:58')"
      ]
     },
     "execution_count": 18,
     "metadata": {},
     "output_type": "execute_result"
    }
   ],
   "source": [
    "#  Extract the timestamp\n",
    "explosion_time = infraredData.index[explosion_status]  # Get index values where explosion_status is True\n",
    "explosion_time[0]  # Extract the first (only) value"
   ]
  },
  {
   "cell_type": "code",
   "execution_count": 19,
   "metadata": {},
   "outputs": [
    {
     "data": {
      "text/plain": [
       "<AxesSubplot:xlabel='DateTime'>"
      ]
     },
     "execution_count": 19,
     "metadata": {},
     "output_type": "execute_result"
    },
    {
     "data": {
      "image/png": "[encoded data removed]",
      "text/plain": [
       "<Figure size 432x288 with 1 Axes>"
      ]
     },
     "metadata": {
      "needs_background": "light"
     },
     "output_type": "display_data"
    }
   ],
   "source": [
    "#  Add a column for the 2-minute rolling mean of the CraterMax temperature (24 x 5 second intervals)\n",
    "infraredData['CraterMaxRolling'] = infraredData['CraterMax'].rolling(window=24).mean()\n",
    "infraredData.plot()"
   ]
  },
  {
   "cell_type": "markdown",
   "metadata": {},
   "source": [
    "### Calculating the mean fumarole temperatures"
   ]
  },
  {
   "cell_type": "markdown",
   "metadata": {},
   "source": [
    "#### You can't trust daytime data because the sun heats the rocks"
   ]
  },
  {
   "cell_type": "code",
   "execution_count": 20,
   "metadata": {},
   "outputs": [
    {
     "data": {
      "text/plain": [
       "<matplotlib.legend.Legend at 0x7fdb6281f340>"
      ]
     },
     "execution_count": 20,
     "metadata": {},
     "output_type": "execute_result"
    },
    {
     "data": {
      "image/png": "[encoded data removed]",
      "text/plain": [
       "<Figure size 432x288 with 1 Axes>"
      ]
     },
     "metadata": {
      "needs_background": "light"
     },
     "output_type": "display_data"
    }
   ],
   "source": [
    "#  Use time index slicing to select time when data unaffected by sunlight or explosions (02:50 to 05:50).\n",
    "night = infraredData['2006-05-23 02:50':'2006-05-23 05:50']\n",
    "night.plot()\n",
    "plt.legend(loc='lower right')"
   ]
  },
  {
   "cell_type": "markdown",
   "metadata": {},
   "source": [
    "#### Clouds passing into view cause the temperature to drop and vary rapidly"
   ]
  },
  {
   "cell_type": "code",
   "execution_count": 21,
   "metadata": {},
   "outputs": [
    {
     "data": {
      "text/plain": [
       "<matplotlib.legend.Legend at 0x7fdb6258b1c0>"
      ]
     },
     "execution_count": 21,
     "metadata": {},
     "output_type": "execute_result"
    },
    {
     "data": {
      "image/png": "[encoded data removed]",
      "text/plain": [
       "<Figure size 432x288 with 1 Axes>"
      ]
     },
     "metadata": {
      "needs_background": "light"
     },
     "output_type": "display_data"
    }
   ],
   "source": [
    "#  Drop data where clouds obscure the crater (and max temperature appears below 29°C)\n",
    "cloud_free = (night['CraterMax'] > 29) & (night['CraterMaxRolling'] > 29)\n",
    "no_clouds = night[cloud_free]\n",
    "no_clouds.plot()\n",
    "plt.legend(loc='lower right')"
   ]
  },
  {
   "cell_type": "code",
   "execution_count": 22,
   "metadata": {},
   "outputs": [
    {
     "data": {
      "text/plain": [
       "<matplotlib.legend.Legend at 0x7fdb624f6df0>"
      ]
     },
     "execution_count": 22,
     "metadata": {},
     "output_type": "execute_result"
    },
    {
     "data": {
      "image/png": "[encoded data removed]",
      "text/plain": [
       "<Figure size 432x288 with 1 Axes>"
      ]
     },
     "metadata": {
      "needs_background": "light"
     },
     "output_type": "display_data"
    }
   ],
   "source": [
    "#  Resample to take 2 minute maximum values, dropping other cloud noise\n",
    "max_2mins = no_clouds.resample('2min').max()\n",
    "max_2mins.plot()\n",
    "plt.legend(loc='lower right')"
   ]
  },
  {
   "cell_type": "code",
   "execution_count": 23,
   "metadata": {},
   "outputs": [
    {
     "data": {
      "text/html": [
       "<div>\n",
       "<style scoped>\n",
       "    .dataframe tbody tr th:only-of-type {\n",
       "        vertical-align: middle;\n",
       "    }\n",
       "\n",
       "    .dataframe tbody tr th {\n",
       "        vertical-align: top;\n",
       "    }\n",
       "\n",
       "    .dataframe thead th {\n",
       "        text-align: right;\n",
       "    }\n",
       "</style>\n",
       "<table border=\"1\" class=\"dataframe\">\n",
       "  <thead>\n",
       "    <tr style=\"text-align: right;\">\n",
       "      <th></th>\n",
       "      <th>Fum1max</th>\n",
       "      <th>Fum2Max</th>\n",
       "      <th>Fum3Max</th>\n",
       "      <th>CraterMax</th>\n",
       "      <th>EFlankAvg</th>\n",
       "      <th>WFlankAvg</th>\n",
       "      <th>CraterMaxRolling</th>\n",
       "    </tr>\n",
       "  </thead>\n",
       "  <tbody>\n",
       "    <tr>\n",
       "      <th>count</th>\n",
       "      <td>85.000000</td>\n",
       "      <td>85.00000</td>\n",
       "      <td>85.000000</td>\n",
       "      <td>85.000000</td>\n",
       "      <td>85.000000</td>\n",
       "      <td>85.000000</td>\n",
       "      <td>85.000000</td>\n",
       "    </tr>\n",
       "    <tr>\n",
       "      <th>mean</th>\n",
       "      <td>32.316471</td>\n",
       "      <td>22.64000</td>\n",
       "      <td>15.310588</td>\n",
       "      <td>32.316471</td>\n",
       "      <td>2.207059</td>\n",
       "      <td>2.162353</td>\n",
       "      <td>31.986176</td>\n",
       "    </tr>\n",
       "    <tr>\n",
       "      <th>std</th>\n",
       "      <td>2.581521</td>\n",
       "      <td>1.66313</td>\n",
       "      <td>0.693340</td>\n",
       "      <td>2.581521</td>\n",
       "      <td>0.175790</td>\n",
       "      <td>0.171114</td>\n",
       "      <td>2.537119</td>\n",
       "    </tr>\n",
       "    <tr>\n",
       "      <th>min</th>\n",
       "      <td>29.500000</td>\n",
       "      <td>19.60000</td>\n",
       "      <td>12.600000</td>\n",
       "      <td>29.500000</td>\n",
       "      <td>1.500000</td>\n",
       "      <td>1.600000</td>\n",
       "      <td>29.412500</td>\n",
       "    </tr>\n",
       "    <tr>\n",
       "      <th>25%</th>\n",
       "      <td>30.400000</td>\n",
       "      <td>21.50000</td>\n",
       "      <td>14.900000</td>\n",
       "      <td>30.400000</td>\n",
       "      <td>2.100000</td>\n",
       "      <td>2.100000</td>\n",
       "      <td>30.200000</td>\n",
       "    </tr>\n",
       "    <tr>\n",
       "      <th>50%</th>\n",
       "      <td>30.700000</td>\n",
       "      <td>21.90000</td>\n",
       "      <td>15.400000</td>\n",
       "      <td>30.700000</td>\n",
       "      <td>2.200000</td>\n",
       "      <td>2.200000</td>\n",
       "      <td>30.445833</td>\n",
       "    </tr>\n",
       "    <tr>\n",
       "      <th>75%</th>\n",
       "      <td>34.600000</td>\n",
       "      <td>24.10000</td>\n",
       "      <td>15.800000</td>\n",
       "      <td>34.600000</td>\n",
       "      <td>2.300000</td>\n",
       "      <td>2.200000</td>\n",
       "      <td>33.858333</td>\n",
       "    </tr>\n",
       "    <tr>\n",
       "      <th>max</th>\n",
       "      <td>37.000000</td>\n",
       "      <td>25.90000</td>\n",
       "      <td>16.400000</td>\n",
       "      <td>37.000000</td>\n",
       "      <td>2.600000</td>\n",
       "      <td>2.500000</td>\n",
       "      <td>36.837500</td>\n",
       "    </tr>\n",
       "  </tbody>\n",
       "</table>\n",
       "</div>"
      ],
      "text/plain": [
       "         Fum1max   Fum2Max    Fum3Max  CraterMax  EFlankAvg  WFlankAvg  \\\n",
       "count  85.000000  85.00000  85.000000  85.000000  85.000000  85.000000   \n",
       "mean   32.316471  22.64000  15.310588  32.316471   2.207059   2.162353   \n",
       "std     2.581521   1.66313   0.693340   2.581521   0.175790   0.171114   \n",
       "min    29.500000  19.60000  12.600000  29.500000   1.500000   1.600000   \n",
       "25%    30.400000  21.50000  14.900000  30.400000   2.100000   2.100000   \n",
       "50%    30.700000  21.90000  15.400000  30.700000   2.200000   2.200000   \n",
       "75%    34.600000  24.10000  15.800000  34.600000   2.300000   2.200000   \n",
       "max    37.000000  25.90000  16.400000  37.000000   2.600000   2.500000   \n",
       "\n",
       "       CraterMaxRolling  \n",
       "count         85.000000  \n",
       "mean          31.986176  \n",
       "std            2.537119  \n",
       "min           29.412500  \n",
       "25%           30.200000  \n",
       "50%           30.445833  \n",
       "75%           33.858333  \n",
       "max           36.837500  "
      ]
     },
     "execution_count": 23,
     "metadata": {},
     "output_type": "execute_result"
    }
   ],
   "source": [
    "# The following are the fumarole temperature statistics for one night, unaffected by explosions, solar heating or sunshine\n",
    "# A time series of these results shows long term changes at the volcano.\n",
    "max_2mins.describe()"
   ]
  },
  {
   "cell_type": "markdown",
   "metadata": {},
   "source": [
    "# Exercises"
   ]
  },
  {
   "cell_type": "markdown",
   "metadata": {},
   "source": [
    "1. What percentage of the original data have we used in the max_2mins data?\n",
    "2. Drop data within 10 minutes of explosion_time from infraredData"
   ]
  },
  {
   "cell_type": "markdown",
   "metadata": {},
   "source": [
    "### _Footnote_\n",
    "This analysis was the reason that I learned programming in the first place.  The time series datasets were just too large for Excel.  I learned Matlab to do it.  It took months and was hundreds of lines of code.  The simplicity of the Python version really highlights for me how scientific computing has come on in a decade.  For full results, see:\n",
    "+ Stevenson, J. A., and N. Varley (2008), Fumarole monitoring with a handheld infrared camera: Volcán de Colima, Mexico, 2006-2007, Journal of Volcanology and Geothermal Research, 177(4), 911-924, doi:[10.1016/j.jvolgeores.2008.07.003](http://dx.doi.org/10.1016/j.jvolgeores.2008.07.003)."
   ]
  }
 ],
 "metadata": {
  "kernelspec": {
   "display_name": "Python 3",
   "language": "python",
   "name": "python3"
  },
  "language_info": {
   "codemirror_mode": {
    "name": "ipython",
    "version": 3
   },
   "file_extension": ".py",
   "mimetype": "text/x-python",
   "name": "python",
   "nbconvert_exporter": "python",
   "pygments_lexer": "ipython3",
   "version": "3.8.10"
  }
 },
 "nbformat": 4,
 "nbformat_minor": 1
}
