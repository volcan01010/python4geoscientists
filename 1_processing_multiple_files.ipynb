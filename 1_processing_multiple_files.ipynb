{
 "cells": [
  {
   "cell_type": "markdown",
   "metadata": {},
   "source": [
    "# Processing data from multiple files"
   ]
  },
  {
   "cell_type": "markdown",
   "metadata": {},
   "source": [
    "The biggest advantage of using code to process data is that a method devised for one file can easily be applied to many.\n",
    "\n",
    "This workbook demonstrates reading data from a file and using functions to repeat chunks of code.  Data are read curves fitted and results plotted for multiple files."
   ]
  },
  {
   "cell_type": "markdown",
   "metadata": {},
   "source": [
    "### Setting up"
   ]
  },
  {
   "cell_type": "code",
   "execution_count": null,
   "metadata": {},
   "outputs": [],
   "source": [
    "# Import modules\n",
    "import os\n",
    "import sys\n",
    "import pandas as pd\n",
    "import numpy as np\n",
    "import matplotlib.pyplot as plt\n",
    "from scipy.stats import linregress\n",
    "\n",
    "# Show plots within notebooks\n",
    "%matplotlib inline\n",
    "\n",
    "# Show module versions\n",
    "print('Python: {}'.format(sys.version))\n",
    "print('Pandas: {}'.format(pd.__version__))\n",
    "print('Numpy: {}'.format(np.__version__))\n",
    "from matplotlib import __version__ as mplv\n",
    "print('Matplotlib: {}'.format(mplv))"
   ]
  },
  {
   "cell_type": "markdown",
   "metadata": {},
   "source": [
    "### The **os** module"
   ]
  },
  {
   "cell_type": "markdown",
   "metadata": {},
   "source": [
    "This section ensures that you are working in the correct directory and shows some of the features of the _os_ module."
   ]
  },
  {
   "cell_type": "code",
   "execution_count": null,
   "metadata": {},
   "outputs": [],
   "source": [
    "#  Set current directory as working directory\n",
    "# (Change this if appropriate)\n",
    "wdir = os.getcwd()\n",
    "print(wdir)"
   ]
  },
  {
   "cell_type": "code",
   "execution_count": null,
   "metadata": {},
   "outputs": [],
   "source": [
    "#  Join folder and file names to create new paths, using correct separator for your operating system\n",
    "datadir = os.path.join( wdir, 'data_files' )\n",
    "print(datadir)"
   ]
  },
  {
   "cell_type": "code",
   "execution_count": null,
   "metadata": {},
   "outputs": [],
   "source": [
    "#  Extract file name from a full path\n",
    "filepath = '/long/path/to/myfile.txt'\n",
    "os.path.basename(filepath)"
   ]
  },
  {
   "cell_type": "code",
   "execution_count": null,
   "metadata": {},
   "outputs": [],
   "source": [
    "#  List directory contents\n",
    "filelist = os.listdir(datadir)\n",
    "filelist"
   ]
  },
  {
   "cell_type": "code",
   "execution_count": null,
   "metadata": {},
   "outputs": [],
   "source": [
    "#  List data files\n",
    "datafiles = []\n",
    "for filename in filelist:\n",
    "    if filename.endswith('.data'):\n",
    "        datafiles.append(filename)\n",
    "datafiles.sort()\n",
    "print(datafiles)\n",
    "\n",
    "# Bonus exercise: use 'glob' module to get same results"
   ]
  },
  {
   "cell_type": "markdown",
   "metadata": {},
   "source": [
    "### Reading the datafiles"
   ]
  },
  {
   "cell_type": "code",
   "execution_count": null,
   "metadata": {},
   "outputs": [],
   "source": [
    "#  A simple script to read a data file\n",
    "x = []\n",
    "y = []\n",
    "filepath = os.path.join(datadir, 'Sample001.data')\n",
    "\n",
    "with open(filepath, 'rt') as f:\n",
    "    groupline = f.readline()  # Skip first line\n",
    "    for line in f.readlines():\n",
    "        cols = line.split(',')\n",
    "        x.append(cols[0])\n",
    "        y.append(cols[1])\n",
    "        \n",
    "x = np.array(x, dtype=float)\n",
    "y = np.array(y, dtype=float)\n",
    "print('x: {}'.format(x))\n",
    "print('y: {}'.format(y))"
   ]
  },
  {
   "cell_type": "code",
   "execution_count": null,
   "metadata": {},
   "outputs": [],
   "source": [
    "#  Code that is often reused can be put in a function.\n",
    "def read_data_file(filepath):\n",
    "    \"\"\"Read SampleXXX.data file, returning x and y as numpy arrays.\"\"\"\n",
    "    x = []\n",
    "    y = []\n",
    "        \n",
    "    with open(filepath, 'rt') as f:\n",
    "        groupline = f.readline()  # Skip first line\n",
    "        for line in f.readlines():\n",
    "            cols = line.split(',')\n",
    "            x.append(cols[0])\n",
    "            y.append(cols[1])\n",
    "    \n",
    "    x = np.array(x, dtype=float)\n",
    "    y = np.array(y, dtype=float)\n",
    "    \n",
    "    return x, y"
   ]
  },
  {
   "cell_type": "code",
   "execution_count": null,
   "metadata": {},
   "outputs": [],
   "source": [
    "#  Read a data file using the function\n",
    "filepath = os.path.join(datadir, 'Sample001.data')\n",
    "x, y = read_data_file(filepath)\n",
    "print(x)\n",
    "print(y)"
   ]
  },
  {
   "cell_type": "code",
   "execution_count": null,
   "metadata": {},
   "outputs": [],
   "source": [
    "#  Plot the data - it really is this easy!!!\n",
    "plt.scatter(x, y)"
   ]
  },
  {
   "cell_type": "markdown",
   "metadata": {},
   "source": [
    "### Calculating the best fit line"
   ]
  },
  {
   "cell_type": "code",
   "execution_count": null,
   "metadata": {},
   "outputs": [],
   "source": [
    "#  Use the linregress function from the scipy.stats module\n",
    "slope, intercept, r_value, p_value, std_err = linregress(x, y)\n",
    "os.path.basename(filename)\n",
    "\n",
    "#  See https://mkaz.com/2012/10/10/python-string-format/ for string format hints\n",
    "results_text = \"\"\"\n",
    "Filename: {filename}\n",
    "Slope: {slope:.2f}\n",
    "Intercept: {intercept:.2f}\n",
    "R-squared: {r2:.2f}\n",
    "\"\"\".format(filename=filename,slope=slope, intercept=intercept, r2=r_value**2)\n",
    "print(results_text)"
   ]
  },
  {
   "cell_type": "code",
   "execution_count": null,
   "metadata": {},
   "outputs": [],
   "source": [
    "#  Calculate coordinates for the ends of the best fit line.\n",
    "fitted_x = np.array([x.min(), x.max()])  # Take these from the original data\n",
    "fitted_y = slope * fitted_x + intercept"
   ]
  },
  {
   "cell_type": "code",
   "execution_count": null,
   "metadata": {},
   "outputs": [],
   "source": [
    "#  Plot the best fit line\n",
    "plt.scatter(x, y)\n",
    "plt.plot(fitted_x, fitted_y, '-')"
   ]
  },
  {
   "cell_type": "code",
   "execution_count": null,
   "metadata": {},
   "outputs": [],
   "source": [
    "#  Code that is reused can be put into a function\n",
    "def calculate_best_fit(x, y):\n",
    "    \"\"\"Use linregress to calculate best fit line, returning fitted X and Y arrays for plotting.\"\"\"\n",
    "    slope, intercept, r_value, p_value, std_err = linregress(x, y)\n",
    "    fitted_x = np.array([x.min(), x.max()])\n",
    "    fitted_y = slope * fitted_x + intercept   \n",
    "    return fitted_x, fitted_y"
   ]
  },
  {
   "cell_type": "markdown",
   "metadata": {},
   "source": [
    "### Combine functions into single plotting function"
   ]
  },
  {
   "cell_type": "code",
   "execution_count": null,
   "metadata": {},
   "outputs": [],
   "source": [
    "#  Function to plot figure\n",
    "def plot_sample_fit(filepath):\n",
    "    \"\"\"Read data file, calculate fit to x and y, plot and save figure.\"\"\"\n",
    "    x, y = read_data_file(filepath)  # Uses previous function\n",
    "    fitted_x, fitted_y = calculate_best_fit(x, y)  # Uses previous function\n",
    "    \n",
    "    # Plot the figure\n",
    "    plt.figure()\n",
    "    plt.plot(x, y, 'o')\n",
    "    plt.plot(fitted_x, fitted_y, '-x', label='Fitted')\n",
    "    plt.ylim(0, 80)\n",
    "    plt.xlabel('x')\n",
    "    plt.ylabel('y')\n",
    "    \n",
    "    # Save the file\n",
    "    filename = os.path.basename(filepath)\n",
    "    plt.title(filename[:-5])\n",
    "    figure_filename = filename.replace('.data', '.png')\n",
    "    plt.savefig(figure_filename)\n",
    "    plt.close()\n",
    "    return"
   ]
  },
  {
   "cell_type": "code",
   "execution_count": null,
   "metadata": {},
   "outputs": [],
   "source": [
    "#  Plot all files.  Check the working directory and see all the files plotted.  Just like that!\n",
    "for datafile in datafiles:\n",
    "    print(datafile)\n",
    "    data_file_path = os.path.join(datadir, datafile)\n",
    "    plot_sample_fit(data_file_path)"
   ]
  },
  {
   "cell_type": "markdown",
   "metadata": {},
   "source": [
    "# Exercises"
   ]
  },
  {
   "cell_type": "markdown",
   "metadata": {},
   "source": [
    "1. Modify plot_sample_fit to save your figures as pdf files\n",
    "2. Modify the calculate_best_fit so that it also returns results_text\n",
    "3. Modify plot_sample_fit to use plt.text to write results_text onto your graph\n",
    "4. The data belong to two groups (open a Sample file to see).  What is the average\n",
    "   gradient and intercept of each group?"
   ]
  }
 ],
 "metadata": {
  "kernelspec": {
   "display_name": "Python 3",
   "language": "python",
   "name": "python3"
  },
  "language_info": {
   "codemirror_mode": {
    "name": "ipython",
    "version": 3
   },
   "file_extension": ".py",
   "mimetype": "text/x-python",
   "name": "python",
   "nbconvert_exporter": "python",
   "pygments_lexer": "ipython3",
   "version": "3.5.3"
  }
 },
 "nbformat": 4,
 "nbformat_minor": 1
}
