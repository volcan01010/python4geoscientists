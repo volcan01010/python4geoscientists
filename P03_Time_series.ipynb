{
 "metadata": {
  "name": "",
  "signature": "sha256:5cc46eb0e2393e5ea2d059c01e70b50dae80a5239716f97bd78d5254245afae4"
 },
 "nbformat": 3,
 "nbformat_minor": 0,
 "worksheets": [
  {
   "cells": [
    {
     "cell_type": "heading",
     "level": 1,
     "metadata": {},
     "source": [
      "P03 - Time series analysis with Pandas"
     ]
    },
    {
     "cell_type": "markdown",
     "metadata": {},
     "source": [
      "This tutorial introduces the time-series analysis features of Python.  It add the Datetime object, which handles calculations involving periods of time.  The Pandas module introduces two new objects: Dataframes, which are tables of data, and Series, which represent a single column or row.  In this section, we take advantage Pandas' datetime-based indexing to process time-series data."
     ]
    },
    {
     "cell_type": "heading",
     "level": 3,
     "metadata": {},
     "source": [
      "Setting up"
     ]
    },
    {
     "cell_type": "code",
     "collapsed": false,
     "input": [
      "# Import modules + check versions\n",
      "import os\n",
      "import sys\n",
      "import pandas as pd\n",
      "import numpy as np\n",
      "import matplotlib.pyplot as plt\n",
      "import datetime as dt\n",
      "# Inline plots for IPython notebooks\n",
      "#%matplotlib inline\n",
      "print 'Python: ' + sys.version\n",
      "print 'Pandas: ' + pd.__version__\n",
      "print 'Numpy: ' + np.__version__\n",
      "from matplotlib import __version__ as mplv\n",
      "print 'Matplotlib: ' + mplv\n",
      "\n",
      "# Setup working directory\n",
      "wdir = '/home/jsteven5/Teaching/Innovative Learning Week/Innovative Learning - Python/DataAnalysis'\n",
      "os.chdir(wdir)"
     ],
     "language": "python",
     "metadata": {},
     "outputs": []
    },
    {
     "cell_type": "heading",
     "level": 3,
     "metadata": {},
     "source": [
      "Creating datetime objects"
     ]
    },
    {
     "cell_type": "code",
     "collapsed": false,
     "input": [
      "#  Directly enter year, month, day, hour etc.\n",
      "dt.datetime(1955, 11, 12, 22, 4, 0)"
     ],
     "language": "python",
     "metadata": {},
     "outputs": []
    },
    {
     "cell_type": "code",
     "collapsed": false,
     "input": [
      "#  Read from formatted text string (See strftime.org for codes)\n",
      "dt.datetime.strptime('26 October 1985, 01:21:59 am', '%d %B %Y, %I:%M:%S %p')"
     ],
     "language": "python",
     "metadata": {},
     "outputs": []
    },
    {
     "cell_type": "code",
     "collapsed": false,
     "input": [
      "#  Get current time from function\n",
      "dt.datetime.now()"
     ],
     "language": "python",
     "metadata": {},
     "outputs": []
    },
    {
     "cell_type": "heading",
     "level": 3,
     "metadata": {},
     "source": [
      "Timedelta objects represent time spans"
     ]
    },
    {
     "cell_type": "code",
     "collapsed": false,
     "input": [
      "#  Timedelta objects represent the difference between to datetimes.\n",
      "departure = dt.datetime.strptime('26 October 1985, 01:21:59 am', '%d %B %Y, %I:%M:%S %p')\n",
      "delta = dt.datetime.now() - departure\n",
      "print delta"
     ],
     "language": "python",
     "metadata": {},
     "outputs": []
    },
    {
     "cell_type": "code",
     "collapsed": false,
     "input": [
      "#  You can define timedelta based on number of days, seconds and microseconds.  (Why not months or years?)\n",
      "delta = dt.timedelta(1, 1, 1)\n",
      "print delta"
     ],
     "language": "python",
     "metadata": {},
     "outputs": []
    },
    {
     "cell_type": "code",
     "collapsed": false,
     "input": [
      "#  You can specify them by named keys\n",
      "delta = dt.timedelta(seconds=864000)\n",
      "print delta"
     ],
     "language": "python",
     "metadata": {},
     "outputs": []
    },
    {
     "cell_type": "code",
     "collapsed": false,
     "input": [
      "#  The total_seconds() function converts into seconds.  (Python 2.7)\n",
      "delta = dt.timedelta(1, 1, 1)\n",
      "print delta.total_seconds()"
     ],
     "language": "python",
     "metadata": {},
     "outputs": []
    },
    {
     "cell_type": "heading",
     "level": 3,
     "metadata": {},
     "source": [
      "Extracting information from datetime objects"
     ]
    },
    {
     "cell_type": "code",
     "collapsed": false,
     "input": [
      "#  Year, month, day etc. are attributes of the object\n",
      "arrival = dt.datetime(1955, 11, 12, 22, 4, 0)\n",
      "print arrival.year\n",
      "print arrival.hour"
     ],
     "language": "python",
     "metadata": {},
     "outputs": []
    },
    {
     "cell_type": "code",
     "collapsed": false,
     "input": [
      "#  There are methods calculate number of days since Jan 01, 1 A.D.\n",
      "print arrival.toordinal()"
     ],
     "language": "python",
     "metadata": {},
     "outputs": []
    },
    {
     "cell_type": "code",
     "collapsed": false,
     "input": [
      "#  Or the day of the week (Monday = 0)\n",
      "print arrival.weekday()"
     ],
     "language": "python",
     "metadata": {},
     "outputs": []
    },
    {
     "cell_type": "code",
     "collapsed": false,
     "input": [
      "#  The .strftime method writes a string in the specified format\n",
      "arrival.strftime('%Y-%m-%d %H:%M:%S')"
     ],
     "language": "python",
     "metadata": {},
     "outputs": []
    },
    {
     "cell_type": "heading",
     "level": 3,
     "metadata": {},
     "source": [
      "Datetime Exercises"
     ]
    },
    {
     "cell_type": "code",
     "collapsed": false,
     "input": [
      "#  1. Was Marty McFly's journey Back to the Future (departure and arrival times are defined above)\n",
      "#     longer or shorter than if he had travelled to now?\n",
      "#  2. When will you be (or were you) 1 billion seconds old?\n",
      "#  3. Change the arrival.strftime() string to write the arrival date as \"04 minutes past 10 on 12 November 1955\"."
     ],
     "language": "python",
     "metadata": {},
     "outputs": []
    },
    {
     "cell_type": "heading",
     "level": 3,
     "metadata": {},
     "source": [
      "Loading time series data in Pandas"
     ]
    },
    {
     "cell_type": "markdown",
     "metadata": {},
     "source": [
      "This example uses temperatures of steam vents (fumaroles) on the crater of Volc\u00e1n de Colima, Mexico, as measured by infrared camera during a night in 2006."
     ]
    },
    {
     "cell_type": "code",
     "collapsed": false,
     "input": [
      "#  Create a Pandas dataframe reading data from a .csv file.  It can translate dates into datetime objects\n",
      "infraredData = pd.read_csv('InfraredCameraData.csv', parse_dates=[0])\n",
      "infraredData.set_index('DateTime', inplace=True)  # Set the datetime column as the index\n",
      "infraredData.head(10)  # Print the first 10 values"
     ],
     "language": "python",
     "metadata": {},
     "outputs": []
    },
    {
     "cell_type": "code",
     "collapsed": false,
     "input": [
      "#  Plot the time series.\n",
      "infraredData.plot()\n",
      "plt.savefig('graph.png')"
     ],
     "language": "python",
     "metadata": {},
     "outputs": []
    },
    {
     "cell_type": "code",
     "collapsed": false,
     "input": [
      "#  Extract a column as a data series with dictionary-like notation\n",
      "e_flank = infraredData['EFlankAvg']\n",
      "e_flank.head()"
     ],
     "language": "python",
     "metadata": {},
     "outputs": []
    },
    {
     "cell_type": "code",
     "collapsed": false,
     "input": [
      "#  Extract 1 minute worth of rows by slicing the index with datetimes\n",
      "rows = infraredData[dt.datetime(2006, 5, 23, 4, 0):dt.datetime(2006, 5, 23, 4, 1)]\n",
      "rows"
     ],
     "language": "python",
     "metadata": {},
     "outputs": []
    },
    {
     "cell_type": "code",
     "collapsed": false,
     "input": [
      "#  Find the row corresponding to the explosion (max temperature)\n",
      "explosion_status = infraredData['CraterMax'] == infraredData['CraterMax'].max()\n",
      "explosion_status"
     ],
     "language": "python",
     "metadata": {},
     "outputs": []
    },
    {
     "cell_type": "code",
     "collapsed": false,
     "input": [
      "#  Extract the timestamp\n",
      "explosion_time = infraredData.index[explosion_status]  # Get index values where explosion_status is True\n",
      "explosion_time[0]  # Extract the first (only) value"
     ],
     "language": "python",
     "metadata": {},
     "outputs": []
    },
    {
     "cell_type": "code",
     "collapsed": false,
     "input": [
      "#  Add a column for the 2-minute rolling mean of the CraterMax temperature\n",
      "rolling_mean = pd.rolling_mean(infraredData, window=24)  # 24 x 5 second intervals\n",
      "infraredData['CraterMaxRolling'] = rolling_mean['CraterMax']\n",
      "infraredData.plot()"
     ],
     "language": "python",
     "metadata": {},
     "outputs": []
    },
    {
     "cell_type": "heading",
     "level": 3,
     "metadata": {},
     "source": [
      "Calculating the cloud-free mean fumarole temperatures"
     ]
    },
    {
     "cell_type": "code",
     "collapsed": false,
     "input": [
      "#  Use time index slicing to select time when data unaffected by sunlight or explosions.\n",
      "night = infraredData['2006-05-23 02:50':'2006-05-23 05:50']\n",
      "night.plot()"
     ],
     "language": "python",
     "metadata": {},
     "outputs": []
    },
    {
     "cell_type": "code",
     "collapsed": false,
     "input": [
      "#  Drop data where clouds obscure the crater\n",
      "no_clouds = night[night['CraterMax'] > 28]\n",
      "no_clouds.plot()"
     ],
     "language": "python",
     "metadata": {},
     "outputs": []
    },
    {
     "cell_type": "code",
     "collapsed": false,
     "input": [
      "#  Resample to take 2 minute maximum values, dropping other cloud noise\n",
      "max_2mins = no_clouds.resample('2min', how='max')\n",
      "max_2mins.plot()\n",
      "max_2mins.describe()  # Statistics for temperatures unaffected by clouds or explosions"
     ],
     "language": "python",
     "metadata": {},
     "outputs": []
    },
    {
     "cell_type": "heading",
     "level": 1,
     "metadata": {},
     "source": [
      "Exercises"
     ]
    },
    {
     "cell_type": "code",
     "collapsed": false,
     "input": [
      "#  1. What percentage of the original data have we used in the max_2mins data?\n",
      "#  2. Drop data within 10 minutes of explosion_time from infraredData"
     ],
     "language": "python",
     "metadata": {},
     "outputs": []
    }
   ],
   "metadata": {}
  }
 ]
}