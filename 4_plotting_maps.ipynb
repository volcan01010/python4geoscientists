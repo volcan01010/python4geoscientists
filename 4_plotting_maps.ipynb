{
 "cells": [
  {
   "cell_type": "markdown",
   "metadata": {},
   "source": [
    "# P05 - Plotting maps with basemap"
   ]
  },
  {
   "cell_type": "markdown",
   "metadata": {},
   "source": [
    "This section introduces the basemap package, which allows geospatial data to be plotted on maps.  It provides a Python equivalent of the Generic Mapping Tools (GMT) libraries that are popular with geophysicists.  The following is a very basic example of plotting data on a basemap.\n",
    "\n",
    "> Note that since this section was created, [Basemap has reached End-of-life](https://github.com/SciTools/cartopy/issues/920).  The recommended alternative is [Cartopy](https://github.com/SciTools/cartopy).  There is also work underway to create Python bindings to GMT itself ([gmt-python](https://genericmappingtools.github.io/gmt-python/)).\n",
    "\n",
    ">> Additional note.  Since the last note was written, I have written a [GeoPandas demo](https://nbviewer.jupyter.org/github/BritishGeologicalSurvey/geopandas-demo/blob/master/GeoPandas_demo.ipynb).  I would now use GeoPandas for any map-related analysis."
   ]
  },
  {
   "cell_type": "markdown",
   "metadata": {},
   "source": [
    "### Setting up"
   ]
  },
  {
   "cell_type": "code",
   "execution_count": null,
   "metadata": {},
   "outputs": [],
   "source": [
    "# Import modules\n",
    "import datetime as dt\n",
    "import os\n",
    "import sys\n",
    "import pandas as pd\n",
    "import numpy as np\n",
    "import matplotlib.pyplot as plt\n",
    "from mpl_toolkits import basemap\n",
    "\n",
    "\n",
    "# Show plots within notebooks\n",
    "%matplotlib inline\n",
    "\n",
    "# Show module versions\n",
    "print('Python: {}'.format(sys.version))\n",
    "print('Pandas: {}'.format(pd.__version__))\n",
    "print('Numpy: {}'.format(np.__version__))\n",
    "from matplotlib import __version__ as mplv\n",
    "print('Matplotlib: {}'.format(mplv))\n",
    "print('Basemap: {}'.format(basemap.__version__))\n",
    "\n",
    "# Setup working directory\n",
    "wdir = os.getcwd()  # Change this if required\n",
    "data_dir = os.path.join(wdir, 'data_files')\n",
    "os.chdir(wdir)"
   ]
  },
  {
   "cell_type": "markdown",
   "metadata": {},
   "source": [
    "### Get some data"
   ]
  },
  {
   "cell_type": "code",
   "execution_count": null,
   "metadata": {},
   "outputs": [],
   "source": [
    "# Load up the Global Volcanism Programme data from section P04\n",
    "gvp = pd.read_csv(os.path.join(data_dir, 'GVP_Volcano_List.csv'))\n",
    "gvp.dropna(subset=['Latitude', 'Longitude', 'Elevation (m)'], inplace=True)  # Drop any rows without data\n",
    "lat = gvp['Latitude'].tolist()\n",
    "lon = gvp['Longitude'].tolist()\n",
    "elev = gvp['Elevation (m)'].tolist()"
   ]
  },
  {
   "cell_type": "code",
   "execution_count": null,
   "metadata": {},
   "outputs": [],
   "source": [
    "# Plot the data as a normal scatter plot to check\n",
    "plt.scatter(lon, lat, c='black')"
   ]
  },
  {
   "cell_type": "markdown",
   "metadata": {},
   "source": [
    "### Prepare a basemap"
   ]
  },
  {
   "cell_type": "code",
   "execution_count": null,
   "metadata": {},
   "outputs": [],
   "source": [
    "# Create the map canvas\n",
    "fig = plt.figure(figsize=(11, 8))\n",
    "# Robinson projection.  lon_0 is central longitude.\n",
    "# resolution = 'c' means use crude resolution coastlines.\n",
    "m = basemap.Basemap(projection='robin',lon_0=180,resolution='c')\n",
    "\n",
    "#  Decorate the map by adding continents and grid lines\n",
    "m.drawcoastlines(linewidth=0.75)\n",
    "m.fillcontinents(color='0.9')\n",
    "parallels = m.drawparallels(np.arange(-90.,120.,30.), labels=[0, 1, 0, 0])\n",
    "meridians = m.drawmeridians(np.arange(0.,360.,60.), labels=[0, 0, 0, 1])\n",
    "\n",
    "#  Plot the data\n",
    "x, y = m(lon, lat)  # Convert the latitudes and longitudes into map coordintes\n",
    "m.scatter(x, y, s=30, c='red', edgecolor='red', alpha=0.8,  # Alpha is transparency\n",
    "          marker='^', zorder=3)  # zorder brings points to top layer\n",
    "plt.savefig('Ring_of_fire.png')"
   ]
  },
  {
   "cell_type": "markdown",
   "metadata": {},
   "source": [
    "# Exercises"
   ]
  },
  {
   "cell_type": "markdown",
   "metadata": {},
   "source": [
    "1. Use c=elev and cmap='jet' to colour volcanoes by elevation, using m.colorbar to make a key.\n",
    "2. Plot onto the etopo background (see http://matplotlib.org/basemap/users/examples.html?highlight=gallery)\n",
    "3. Make a zoomed map showing Iceland's volcanoes.  Lambert Conformal Conic is a good projection for this."
   ]
  }
 ],
 "metadata": {
  "kernelspec": {
   "display_name": "Python 3",
   "language": "python",
   "name": "python3"
  },
  "language_info": {
   "codemirror_mode": {
    "name": "ipython",
    "version": 3
   },
   "file_extension": ".py",
   "mimetype": "text/x-python",
   "name": "python",
   "nbconvert_exporter": "python",
   "pygments_lexer": "ipython3",
   "version": "3.8.10"
  }
 },
 "nbformat": 4,
 "nbformat_minor": 1
}
