{
 "metadata": {
  "name": "",
  "signature": "sha256:9d59ea8163cf24b0eb694951109c895f585a0a02b96b848fd8cda1f7ba9060e3"
 },
 "nbformat": 3,
 "nbformat_minor": 0,
 "worksheets": [
  {
   "cells": [
    {
     "cell_type": "heading",
     "level": 1,
     "metadata": {},
     "source": [
      "04 - Querying data tables with Pandas"
     ]
    },
    {
     "cell_type": "markdown",
     "metadata": {},
     "source": [
      "This tutorial covers database-like features of the Pandas module.  It adds new objects: Dataframes, which are tables of data, and Series, which represent a single column or row.  These can analyse tables of data within Python using similar operations to those provided by Structured Query Language ([SQL](https://en.wikipedia.org/wiki/SQL)), which is used with relational database management systems.  Here, we will query the [Global Volcanism Program](http://www.volcano.si.edu/list_volcano_holocene.cfm)'s spreadsheet of Holocene volcanoes.  Many of the queries are based on the _Generate volcano trivia with this SQLite tutorial_ blog [post](http://www.volcano.si.edu/list_volcano_holocene.cfm). "
     ]
    },
    {
     "cell_type": "heading",
     "level": 3,
     "metadata": {},
     "source": [
      "Setting up"
     ]
    },
    {
     "cell_type": "code",
     "collapsed": false,
     "input": [
      "# Import modules + check versions\n",
      "import os  # for changing directories\n",
      "import sys  # checking python version\n",
      "import pandas as pd  # gives us dataframes\n",
      "import numpy as np  # arrays and maths\n",
      "import matplotlib.pyplot as plt  # plotting figures\n",
      "# Inline plots for IPython notebooks\n",
      "#%matplotlib inline\n",
      "print 'Python: ' + sys.version\n",
      "print 'Pandas: ' + pd.__version__\n",
      "print 'Numpy: ' + np.__version__\n",
      "from matplotlib import __version__ as mplv\n",
      "print 'Matplotlib: ' + mplv\n",
      "\n",
      "# Setup working directory\n",
      "wdir = '/home/jsteven5/Teaching/Innovative Learning Week/Innovative Learning - Python/DataAnalysis'\n",
      "os.chdir(wdir)"
     ],
     "language": "python",
     "metadata": {},
     "outputs": []
    },
    {
     "cell_type": "heading",
     "level": 3,
     "metadata": {},
     "source": [
      "Import and check the data"
     ]
    },
    {
     "cell_type": "code",
     "collapsed": false,
     "input": [
      "# Pandas' read_csv command has lots of options for dealing with headers, footers etc.\n",
      "gvp = pd.read_csv('GVP_Volcano_List.csv')"
     ],
     "language": "python",
     "metadata": {},
     "outputs": []
    },
    {
     "cell_type": "code",
     "collapsed": false,
     "input": [
      "# Check the column names.\n",
      "print gvp.columns"
     ],
     "language": "python",
     "metadata": {},
     "outputs": []
    },
    {
     "cell_type": "code",
     "collapsed": false,
     "input": [
      "# View the first 5 entries\n",
      "gvp.head()"
     ],
     "language": "python",
     "metadata": {},
     "outputs": []
    },
    {
     "cell_type": "code",
     "collapsed": false,
     "input": [
      "# View the last 2 entries\n",
      "gvp.tail(2)"
     ],
     "language": "python",
     "metadata": {},
     "outputs": []
    },
    {
     "cell_type": "heading",
     "level": 3,
     "metadata": {},
     "source": [
      "Accessing data"
     ]
    },
    {
     "cell_type": "code",
     "collapsed": false,
     "input": [
      "# Access individual columns as Pandas series using Python dictionary syntax.\n",
      "gvp['Last Known Eruption'].tail()"
     ],
     "language": "python",
     "metadata": {},
     "outputs": []
    },
    {
     "cell_type": "code",
     "collapsed": false,
     "input": [
      "#  Get summary statistics for a column\n",
      "print gvp['Elevation (m)'].describe()"
     ],
     "language": "python",
     "metadata": {},
     "outputs": []
    },
    {
     "cell_type": "code",
     "collapsed": false,
     "input": [
      "# Data rows can be sliced based on their position\n",
      "gvp[150:155]"
     ],
     "language": "python",
     "metadata": {},
     "outputs": []
    },
    {
     "cell_type": "code",
     "collapsed": false,
     "input": [
      "# Using the index and the '.loc' command gives more meaningful access to the rows\n",
      "gvp_names = gvp.set_index('Volcano Name')  # Make a copy with the Name column as the index\n",
      "gvp_names.loc['Hekla']  # What information is there on Hekla?"
     ],
     "language": "python",
     "metadata": {},
     "outputs": []
    },
    {
     "cell_type": "code",
     "collapsed": false,
     "input": [
      "# The '.loc' command accepts lists of rows and columns\n",
      "gvp_names.loc[['Fuji', 'Etna'], 'Elevation (m)']  # Which is taller, Fuji or Etna?"
     ],
     "language": "python",
     "metadata": {},
     "outputs": []
    },
    {
     "cell_type": "code",
     "collapsed": false,
     "input": [
      "#  True/False (Boolean) indexing can be used to perform SQL-like 'WHERE' queries.\n",
      "gvp_names.loc[gvp_names['Country'] == 'Iceland', ['Latitude', 'Longitude']]  # Where are Iceland's volcanoes?"
     ],
     "language": "python",
     "metadata": {},
     "outputs": []
    },
    {
     "cell_type": "heading",
     "level": 3,
     "metadata": {},
     "source": [
      "Manipulating data within the columns"
     ]
    },
    {
     "cell_type": "code",
     "collapsed": false,
     "input": [
      "# Add extra columns using dictionary assignment notation\n",
      "gvp_names['Elevation (km)'] = gvp_names['Elevation (m)']/1000.0\n",
      "gvp_names['Elevation (km)'].head()"
     ],
     "language": "python",
     "metadata": {},
     "outputs": []
    },
    {
     "cell_type": "code",
     "collapsed": false,
     "input": [
      "#  Operations on Series that contains text strings are done with the .str.????? commands\n",
      "gvp_regions = gvp['Region']\n",
      "print(gvp_regions.str.upper().head())\n",
      "print(gvp_regions.str.replace('and', '&').head())\n",
      "print(gvp_regions.str.contains('Asia').head())"
     ],
     "language": "python",
     "metadata": {},
     "outputs": []
    },
    {
     "cell_type": "code",
     "collapsed": false,
     "input": [
      "#  Use the .map method to apply a function to every entry in a column\n",
      "def extract_year(year_string):\n",
      "    \"\"\"Drops the CE or BCE suffix from a date, e.g. '2015 CE', returning an integer.\n",
      "    This allows sorting and indexing by the numerical value of the year.\"\"\"\n",
      "    if year_string == 'Unknown':\n",
      "        return None\n",
      "    year = year_string.split()[0]\n",
      "    suffix = year_string.split()[1]\n",
      "    if suffix == 'CE':\n",
      "        return int(year)\n",
      "    elif suffix == 'BCE':\n",
      "        return -1 * int(year)\n",
      "    else:\n",
      "        raise ValueError('Cannot parse {} as eruption year.'.format(year_string))\n",
      "\n",
      "gvp['Last Known Eruption Year'] = gvp['Last Known Eruption'].map(extract_year)  # Applying functions to change values\n",
      "gvp_years = gvp.dropna(subset=['Last Known Eruption Year']).set_index('Last Known Eruption Year').sort_index()\n",
      "gvp_years.loc[1914:1919, ['Volcano Name', 'Country']]  # Volcanoes that began erupting during the First World War."
     ],
     "language": "python",
     "metadata": {},
     "outputs": []
    },
    {
     "cell_type": "heading",
     "level": 1,
     "metadata": {},
     "source": [
      "Exercises"
     ]
    },
    {
     "cell_type": "code",
     "collapsed": false,
     "input": [
      "#  1. How many volcanoes are in Spain?\n",
      "#  2. Which is further north, Cotopaxi or Kilimanjaro?"
     ],
     "language": "python",
     "metadata": {},
     "outputs": []
    },
    {
     "cell_type": "heading",
     "level": 3,
     "metadata": {},
     "source": [
      "Database-like analysis"
     ]
    },
    {
     "cell_type": "code",
     "collapsed": false,
     "input": [
      "#  Perform SQL-like SELECT and ORDER BY operations\n",
      "gvp_names['Elevation (m)'].order(ascending=False).head(10)"
     ],
     "language": "python",
     "metadata": {},
     "outputs": []
    },
    {
     "cell_type": "code",
     "collapsed": false,
     "input": [
      "#  Perform SQL-like GROUP BY operations\n",
      "country_counts = gvp_names.groupby('Country').size()  # Count the number of volcanoes per country\n",
      "country_counts.order(ascending=False).head(10)  # Top 10 most volcanically active countries"
     ],
     "language": "python",
     "metadata": {},
     "outputs": []
    },
    {
     "cell_type": "code",
     "collapsed": false,
     "input": [
      "#  Plot results of groupby operations\n",
      "type_sizes = gvp.groupby('Primary Volcano Type')['Elevation (m)'].mean()\n",
      "type_sizes.plot(kind='bar')\n",
      "plt.ylabel('Mean elevation (m)')"
     ],
     "language": "python",
     "metadata": {},
     "outputs": []
    },
    {
     "cell_type": "code",
     "collapsed": false,
     "input": [
      "#  Use the pd.merge function to perform SQL-like JOINs of data tables\n",
      "factbook = pd.read_csv('factbook_extracts.csv')\n",
      "# CIA World Factbook data modified from https://www.google.com/fusiontables/DataSource?snapid=134490\n",
      "gvp_factbook = pd.merge(gvp, factbook, left_on='Country', right_on='Country', how='inner')\n",
      "print gvp_factbook.columns"
     ],
     "language": "python",
     "metadata": {},
     "outputs": []
    },
    {
     "cell_type": "code",
     "collapsed": false,
     "input": [
      "#  Perform queries using data from both tables\n",
      "low_gdp_cutoff = 5000\n",
      "low_gdp_volcanoes = gvp_factbook.loc[gvp_factbook['GDP per capita ($ PPP)'] < low_gdp_cutoff]\n",
      "print '\\n%d of %d volcanoes are in countries with GDP per capita <$%d.\\n' % (\n",
      "       len(low_gdp_volcanoes), len(gvp), low_gdp_cutoff)"
     ],
     "language": "python",
     "metadata": {},
     "outputs": []
    },
    {
     "cell_type": "code",
     "collapsed": false,
     "input": [
      "#  What is the mean life expectancy in the GVP-defined regions?\n",
      "gvp_factbook_regions = gvp_factbook.groupby('Region')\n",
      "gvp_factbook_regions['Life expectancy at birth'].mean().order(ascending=False)"
     ],
     "language": "python",
     "metadata": {},
     "outputs": []
    },
    {
     "cell_type": "heading",
     "level": 3,
     "metadata": {},
     "source": [
      "Exporting data"
     ]
    },
    {
     "cell_type": "code",
     "collapsed": false,
     "input": [
      "#  A Pandas Series (single column or row) can be exported as a list\n",
      "iceland_volcanoes = gvp_names.loc[gvp_names['Country'] == 'Iceland', ['Latitude', 'Longitude']] \n",
      "volcano_names = iceland_volcanoes.index.tolist()\n",
      "print(volcano_names)"
     ],
     "language": "python",
     "metadata": {},
     "outputs": []
    },
    {
     "cell_type": "code",
     "collapsed": false,
     "input": [
      "#  Convert a column to a list\n",
      "volcano_latitudes = iceland_volcanoes['Latitude'].tolist()\n",
      "print(volcano_latitudes)"
     ],
     "language": "python",
     "metadata": {},
     "outputs": []
    },
    {
     "cell_type": "code",
     "collapsed": false,
     "input": [
      "#  Convert a row to a list\n",
      "askja_lat_lon = iceland_volcanoes.loc['Askja'].tolist()\n",
      "print(askja_lat_lon)"
     ],
     "language": "python",
     "metadata": {},
     "outputs": []
    },
    {
     "cell_type": "code",
     "collapsed": false,
     "input": [
      "#  A Pandas Dataframe (multiple columns) can be exported as a dictionary of lists\n",
      "iceland_latlons = iceland_volcanoes[['Longitude', 'Latitude']]\n",
      "iceland_latlons = iceland_latlons.to_dict('list')\n",
      "print(iceland_latlons)"
     ],
     "language": "python",
     "metadata": {},
     "outputs": []
    },
    {
     "cell_type": "code",
     "collapsed": false,
     "input": [
      "#  Data can be exported to files with .to_csv, .to_excel, .to_latex commands.\n",
      "#  There are options to control the format of dates and floating point numbers.\n",
      "iceland_volcanoes = gvp_names.loc[gvp_names['Country'] == 'Iceland', ['Latitude', 'Longitude']]\n",
      "iceland_volcanoes.to_csv('Icelandic_volcano_locations.csv', float_format='%.2f')"
     ],
     "language": "python",
     "metadata": {},
     "outputs": []
    },
    {
     "cell_type": "heading",
     "level": 1,
     "metadata": {},
     "source": [
      "Exercises"
     ]
    },
    {
     "cell_type": "code",
     "collapsed": false,
     "input": [
      "#  1. Export a csv file with a list of the names and locations of stratovolcanoes over 2500 m in South America.\n",
      "#  2. What proportion of countries list volcanoes as a natural hazard?  (hint .str.contains('volcan.*')"
     ],
     "language": "python",
     "metadata": {},
     "outputs": []
    }
   ],
   "metadata": {}
  }
 ]
}