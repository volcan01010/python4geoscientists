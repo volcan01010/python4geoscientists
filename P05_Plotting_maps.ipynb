{
 "metadata": {
  "name": "",
  "signature": "sha256:61195179adc4713ed2e1c5304998214bae892e5886b28cdf4b01d3b37327b70c"
 },
 "nbformat": 3,
 "nbformat_minor": 0,
 "worksheets": [
  {
   "cells": [
    {
     "cell_type": "heading",
     "level": 1,
     "metadata": {},
     "source": [
      "P05 - Plotting maps with basemap"
     ]
    },
    {
     "cell_type": "markdown",
     "metadata": {},
     "source": [
      "This section introduces the basemap package, which allows geospatial data to be plotted on maps."
     ]
    },
    {
     "cell_type": "heading",
     "level": 3,
     "metadata": {},
     "source": [
      "Setting up"
     ]
    },
    {
     "cell_type": "code",
     "collapsed": false,
     "input": [
      "# Import modules + check versions\n",
      "import os  # for changing directories\n",
      "import sys  # checking python version\n",
      "import pandas as pd  # gives us dataframes\n",
      "import numpy as np  # arrays and maths\n",
      "import matplotlib.pyplot as plt  # plotting figures\n",
      "from mpl_toolkits.basemap import Basemap  # plotting maps\n",
      "# Inline plots for IPython notebooks\n",
      "#%matplotlib inline\n",
      "print 'Python: ' + sys.version\n",
      "print 'Pandas: ' + pd.__version__\n",
      "print 'Numpy: ' + np.__version__\n",
      "from matplotlib import __version__ as mplv\n",
      "print 'Matplotlib: ' + mplv\n",
      "\n",
      "# Setup working directory\n",
      "wdir = '/home/jsteven5/Teaching/Innovative Learning Week/Innovative Learning - Python/DataAnalysis'\n",
      "os.chdir(wdir)"
     ],
     "language": "python",
     "metadata": {},
     "outputs": []
    },
    {
     "cell_type": "heading",
     "level": 3,
     "metadata": {},
     "source": [
      "Get some data"
     ]
    },
    {
     "cell_type": "code",
     "collapsed": false,
     "input": [
      "# Load up the Global Volcanism Programme data from section P04\n",
      "gvp = pd.read_csv('GVP_Volcano_List.csv')\n",
      "gvp.dropna(subset=['Latitude', 'Longitude', 'Elevation (m)'], inplace=True)  # Drop any rows without data\n",
      "lat = gvp['Latitude'].tolist()\n",
      "lon = gvp['Longitude'].tolist()\n",
      "elev = gvp['Elevation (m)'].tolist()"
     ],
     "language": "python",
     "metadata": {},
     "outputs": []
    },
    {
     "cell_type": "code",
     "collapsed": false,
     "input": [
      "# Plot the data as a normal scatter plot to check\n",
      "plt.scatter(lon, lat, c='black')"
     ],
     "language": "python",
     "metadata": {},
     "outputs": []
    },
    {
     "cell_type": "heading",
     "level": 3,
     "metadata": {},
     "source": [
      "Prepare a basemap"
     ]
    },
    {
     "cell_type": "code",
     "collapsed": false,
     "input": [
      "# Create the map canvas\n",
      "fig = plt.figure(figsize=(11, 8))\n",
      "# Robinson projection.  lon_0 is central longitude.\n",
      "# resolution = 'c' means use crude resolution coastlines.\n",
      "m = Basemap(projection='robin',lon_0=180,resolution='c')\n",
      "\n",
      "#  Decorate the map by adding continents and grid lines\n",
      "m.drawcoastlines(linewidth=0.75)\n",
      "m.fillcontinents(color='0.9')\n",
      "parallels = m.drawparallels(np.arange(-90.,120.,30.), labels=[0, 1, 0, 0])\n",
      "meridians = m.drawmeridians(np.arange(0.,360.,60.), labels=[0, 0, 0, 1])\n",
      "\n",
      "#  Plot the data\n",
      "x, y = m(lon, lat)  # Convert the latitudes and longitudes into map coordintes\n",
      "m.scatter(x, y, s=30, c='red', edgecolor='red', alpha=0.8,  # Alpha is transparency\n",
      "          marker='^', zorder=3)  # zorder brings points to top layer\n",
      "plt.savefig('Ring_of_fire.png')"
     ],
     "language": "python",
     "metadata": {},
     "outputs": []
    },
    {
     "cell_type": "heading",
     "level": 1,
     "metadata": {},
     "source": [
      "Exercises"
     ]
    },
    {
     "cell_type": "code",
     "collapsed": false,
     "input": [
      "#  1. Use c=elev and cmap='jet' to colour volcanoes by elevation, using m.colorbar to make a key.\n",
      "#  2. Plot onto the etopo background (see http://matplotlib.org/basemap/users/examples.html?highlight=gallery)\n",
      "#  3. Make a zoomed map showing Iceland's volcanoes.  Lambert Conformal Conic is a good projection for this."
     ],
     "language": "python",
     "metadata": {},
     "outputs": []
    }
   ],
   "metadata": {}
  }
 ]
}