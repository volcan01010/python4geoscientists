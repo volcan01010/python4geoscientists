{
 "cells": [
  {
   "cell_type": "markdown",
   "metadata": {},
   "source": [
    "# 04 - Querying data tables with Pandas"
   ]
  },
  {
   "cell_type": "markdown",
   "metadata": {},
   "source": [
    "This tutorial covers database-like features of the Pandas module.  It adds new objects: Dataframes, which are tables of data, and Series, which represent a single column or row.  They provide equivalent functions to the R programming language.  They can be used to analyse tables of data within Python using similar operations to those provided by Structured Query Language ([SQL](https://en.wikipedia.org/wiki/SQL)), which is used with relational database management systems.\n",
    "\n",
    "Here, we will query the [Global Volcanism Program](http://www.volcano.si.edu/list_volcano_holocene.cfm)'s spreadsheet of Holocene volcanoes.  Many of the queries are based on the _Generate volcano trivia with this SQLite tutorial_ blog [post](http://www.volcano.si.edu/list_volcano_holocene.cfm). "
   ]
  },
  {
   "cell_type": "markdown",
   "metadata": {},
   "source": [
    "### Setting up"
   ]
  },
  {
   "cell_type": "code",
   "execution_count": null,
   "metadata": {},
   "outputs": [],
   "source": [
    "# Import modules\n",
    "import datetime as dt\n",
    "import os\n",
    "import sys\n",
    "import pandas as pd\n",
    "import numpy as np\n",
    "import matplotlib.pyplot as plt\n",
    "\n",
    "\n",
    "# Show plots within notebooks\n",
    "%matplotlib inline\n",
    "\n",
    "# Show module versions\n",
    "print('Python: {}'.format(sys.version))\n",
    "print('Pandas: {}'.format(pd.__version__))\n",
    "print('Numpy: {}'.format(np.__version__))\n",
    "from matplotlib import __version__ as mplv\n",
    "print('Matplotlib: {}'.format(mplv))\n",
    "\n",
    "# Setup working directory\n",
    "wdir = os.getcwd()  # Change this if required\n",
    "data_dir = os.path.join(wdir, 'data_files')\n",
    "os.chdir(wdir)"
   ]
  },
  {
   "cell_type": "markdown",
   "metadata": {},
   "source": [
    "### Import and check the data"
   ]
  },
  {
   "cell_type": "code",
   "execution_count": null,
   "metadata": {},
   "outputs": [],
   "source": [
    "# Pandas' read_csv command has lots of options for dealing with headers, footers etc.\n",
    "gvp = pd.read_csv(os.path.join(data_dir, 'GVP_Volcano_List.csv'))"
   ]
  },
  {
   "cell_type": "code",
   "execution_count": null,
   "metadata": {},
   "outputs": [],
   "source": [
    "# Check the column names.\n",
    "print(gvp.columns)"
   ]
  },
  {
   "cell_type": "code",
   "execution_count": null,
   "metadata": {},
   "outputs": [],
   "source": [
    "# View the first 5 entries\n",
    "gvp.head()"
   ]
  },
  {
   "cell_type": "code",
   "execution_count": null,
   "metadata": {},
   "outputs": [],
   "source": [
    "# View the last 2 entries\n",
    "gvp.tail(2)"
   ]
  },
  {
   "cell_type": "markdown",
   "metadata": {},
   "source": [
    "### Accessing data"
   ]
  },
  {
   "cell_type": "code",
   "execution_count": null,
   "metadata": {},
   "outputs": [],
   "source": [
    "# Access individual columns as Pandas series using Python dictionary syntax.\n",
    "gvp['Last Known Eruption'].tail()"
   ]
  },
  {
   "cell_type": "code",
   "execution_count": null,
   "metadata": {},
   "outputs": [],
   "source": [
    "#  Get summary statistics for a column\n",
    "print(gvp['Elevation (m)'].describe())"
   ]
  },
  {
   "cell_type": "code",
   "execution_count": null,
   "metadata": {},
   "outputs": [],
   "source": [
    "# Data rows can be sliced based on their position\n",
    "gvp[150:155]"
   ]
  },
  {
   "cell_type": "code",
   "execution_count": null,
   "metadata": {},
   "outputs": [],
   "source": [
    "# Using the index and the '.loc' command gives more meaningful access to the rows\n",
    "gvp_names = gvp.set_index('Volcano Name')  # Make a copy with the Name column as the index\n",
    "gvp_names.loc['Hekla']  # What information is there on Hekla?"
   ]
  },
  {
   "cell_type": "code",
   "execution_count": null,
   "metadata": {},
   "outputs": [],
   "source": [
    "# The '.loc' command accepts lists of rows and columns\n",
    "gvp_names.loc[['Fuji', 'Etna'], 'Elevation (m)']  # Which is taller, Fuji or Etna?"
   ]
  },
  {
   "cell_type": "code",
   "execution_count": null,
   "metadata": {},
   "outputs": [],
   "source": [
    "#  True/False (Boolean) indexing can be used to perform SQL-like 'WHERE' queries.\n",
    "gvp_names.loc[gvp_names['Country'] == 'Iceland', ['Latitude', 'Longitude']]  # Where are Iceland's volcanoes?"
   ]
  },
  {
   "cell_type": "markdown",
   "metadata": {},
   "source": [
    "### Manipulating data within the columns"
   ]
  },
  {
   "cell_type": "code",
   "execution_count": null,
   "metadata": {},
   "outputs": [],
   "source": [
    "# Add extra columns using dictionary assignment notation\n",
    "gvp_names['Elevation (km)'] = gvp_names['Elevation (m)']/1000.0\n",
    "gvp_names['Elevation (km)'].head()"
   ]
  },
  {
   "cell_type": "code",
   "execution_count": null,
   "metadata": {},
   "outputs": [],
   "source": [
    "#  Operations on Series that contains text strings are done with the .str.command syntax\n",
    "gvp_regions = gvp['Region']\n",
    "print(gvp_regions.str.upper().head())  # Make text ALL CAPS\n",
    "print()\n",
    "print(gvp_regions.str.replace('and', '&').head())  # find and replace\n",
    "print()\n",
    "print(gvp_regions.str.contains('Asia').head())  # Search the text"
   ]
  },
  {
   "cell_type": "code",
   "execution_count": null,
   "metadata": {},
   "outputs": [],
   "source": [
    "#  Use the .map method to apply a function to every entry in a column\n",
    "\n",
    "# Define a function to convert text year into numerical value\n",
    "def extract_year(year_string):\n",
    "    \"\"\"Drop the CE or BCE suffix from a date, e.g. '2015 CE', returning an integer.\n",
    "    This allows sorting and indexing by the numerical value of the year.\"\"\"\n",
    "    if year_string == 'Unknown':\n",
    "        return None\n",
    "    \n",
    "    year = year_string.split()[0]\n",
    "    suffix = year_string.split()[1]\n",
    "    \n",
    "    if suffix == 'CE':\n",
    "        return int(year)\n",
    "    elif suffix == 'BCE':\n",
    "        return -1 * int(year)\n",
    "    else:\n",
    "        raise ValueError('Cannot parse {} as eruption year.'.format(year_string))\n",
    "\n",
    "# Add numerical date column and analyse\n",
    "gvp['Last Known Eruption Year'] = gvp['Last Known Eruption'].map(extract_year)  # Applying functions to change values\n",
    "gvp_years = gvp.dropna(subset=['Last Known Eruption Year']).set_index('Last Known Eruption Year').sort_index()\n",
    "gvp_years.loc[1914:1919, ['Volcano Name', 'Country']]  # Volcanoes that began erupting during the First World War."
   ]
  },
  {
   "cell_type": "markdown",
   "metadata": {},
   "source": [
    "## Exercises"
   ]
  },
  {
   "cell_type": "markdown",
   "metadata": {},
   "source": [
    "1. How many volcanoes are in Spain?\n",
    "2. Which is further north, Cotopaxi or Kilimanjaro?"
   ]
  },
  {
   "cell_type": "markdown",
   "metadata": {},
   "source": [
    "# Database-like analysis\n",
    "\n",
    "Pandas dataframes can be manipulated in the same way as SQL-based databases."
   ]
  },
  {
   "cell_type": "code",
   "execution_count": null,
   "metadata": {},
   "outputs": [],
   "source": [
    "#  Perform SQL-like SELECT and ORDER BY operations\n",
    "gvp_names['Elevation (m)'].sort_values(ascending=False).head(10)"
   ]
  },
  {
   "cell_type": "code",
   "execution_count": null,
   "metadata": {},
   "outputs": [],
   "source": [
    "#  Perform SQL-like GROUP BY operations\n",
    "country_counts = gvp_names.groupby('Country').size()  # Count the number of volcanoes per country\n",
    "country_counts.sort_values(ascending=False).head(10)  # Top 10 most volcanically active countries"
   ]
  },
  {
   "cell_type": "code",
   "execution_count": null,
   "metadata": {},
   "outputs": [],
   "source": [
    "#  Plot results of groupby operations\n",
    "type_sizes = gvp.groupby('Primary Volcano Type')['Elevation (m)'].mean()\n",
    "type_sizes.plot(kind='bar')\n",
    "plt.ylabel('Mean elevation (m)')\n",
    "\n",
    "# Guess what: submarine volcanoes have the lowest mean elevations!"
   ]
  },
  {
   "cell_type": "code",
   "execution_count": null,
   "metadata": {},
   "outputs": [],
   "source": [
    "#  Use the pd.merge function to perform SQL-like JOINs of data tables\n",
    "factbook = pd.read_csv(os.path.join(data_dir, 'factbook_extracts.csv'))\n",
    "# CIA World Factbook data modified from https://www.google.com/fusiontables/DataSource?snapid=134490\n",
    "\n",
    "gvp_factbook = pd.merge(gvp, factbook, left_on='Country', right_on='Country', how='inner')\n",
    "print(gvp_factbook.columns)  # Note the extra columns"
   ]
  },
  {
   "cell_type": "code",
   "execution_count": null,
   "metadata": {},
   "outputs": [],
   "source": [
    "#  Perform queries using data from both tables - what proportion of volcanoes are in the poorest countries?\n",
    "LOW_GDP_CUTOFF = 5000  # By convention, use ALL_CAPS for constants\n",
    "low_gdp_volcanoes = gvp_factbook.loc[gvp_factbook['GDP per capita ($ PPP)'] < LOW_GDP_CUTOFF]\n",
    "msg = '{} of {} volcanoes are in countries with GDP per capita <${}.\\n'.format(\n",
    "    len(low_gdp_volcanoes),\n",
    "    len(gvp),\n",
    "    LOW_GDP_CUTOFF)\n",
    "print(msg)"
   ]
  },
  {
   "cell_type": "code",
   "execution_count": null,
   "metadata": {},
   "outputs": [],
   "source": [
    "#  What is the mean life expectancy in the GVP-defined regions?\n",
    "gvp_factbook_regions = gvp_factbook.groupby('Region')\n",
    "gvp_factbook_regions['Life expectancy at birth'].mean().sort_values(ascending=False)"
   ]
  },
  {
   "cell_type": "markdown",
   "metadata": {},
   "source": [
    "### Exporting data"
   ]
  },
  {
   "cell_type": "code",
   "execution_count": null,
   "metadata": {},
   "outputs": [],
   "source": [
    "#  A Pandas Series (single column or row) can be exported as a list\n",
    "iceland_volcanoes = gvp_names.loc[gvp_names['Country'] == 'Iceland', ['Latitude', 'Longitude']] \n",
    "volcano_names = iceland_volcanoes.index.tolist()\n",
    "print(volcano_names)"
   ]
  },
  {
   "cell_type": "code",
   "execution_count": null,
   "metadata": {},
   "outputs": [],
   "source": [
    "#  Convert a column to a list\n",
    "volcano_latitudes = iceland_volcanoes['Latitude'].tolist()\n",
    "print(volcano_latitudes)"
   ]
  },
  {
   "cell_type": "code",
   "execution_count": null,
   "metadata": {},
   "outputs": [],
   "source": [
    "#  Convert a row to a list\n",
    "askja_lat_lon = iceland_volcanoes.loc['Askja'].tolist()\n",
    "print(askja_lat_lon)"
   ]
  },
  {
   "cell_type": "code",
   "execution_count": null,
   "metadata": {},
   "outputs": [],
   "source": [
    "#  A Pandas Dataframe (multiple columns) can be exported as a dictionary of lists\n",
    "iceland_latlons = iceland_volcanoes[['Longitude', 'Latitude']]\n",
    "iceland_latlons = iceland_latlons.to_dict('list')\n",
    "print(iceland_latlons)"
   ]
  },
  {
   "cell_type": "code",
   "execution_count": null,
   "metadata": {},
   "outputs": [],
   "source": [
    "#  Data can be exported to files with .to_csv, .to_excel, .to_latex commands.\n",
    "#  There are options to control the format of dates and floating point numbers.\n",
    "iceland_volcanoes = gvp_names.loc[gvp_names['Country'] == 'Iceland', ['Latitude', 'Longitude']]\n",
    "iceland_volcanoes.to_csv('Icelandic_volcano_locations.csv', float_format='%.2f')\n",
    "# Check the working directory to see the file"
   ]
  },
  {
   "cell_type": "markdown",
   "metadata": {},
   "source": [
    "# Exercises"
   ]
  },
  {
   "cell_type": "markdown",
   "metadata": {},
   "source": [
    "1. Export a csv file with a list of the names and locations of stratovolcanoes over 2500 m in South America.\n",
    "2. What proportion of countries list volcanoes as a natural hazard?  (hint .str.contains('volcan.*')"
   ]
  }
 ],
 "metadata": {
  "kernelspec": {
   "display_name": "Python 3",
   "language": "python",
   "name": "python3"
  },
  "language_info": {
   "codemirror_mode": {
    "name": "ipython",
    "version": 3
   },
   "file_extension": ".py",
   "mimetype": "text/x-python",
   "name": "python",
   "nbconvert_exporter": "python",
   "pygments_lexer": "ipython3",
   "version": "3.5.3"
  }
 },
 "nbformat": 4,
 "nbformat_minor": 1
}
