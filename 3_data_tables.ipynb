{
 "cells": [
  {
   "cell_type": "markdown",
   "metadata": {},
   "source": [
    "# 04 - Querying data tables with Pandas"
   ]
  },
  {
   "cell_type": "markdown",
   "metadata": {},
   "source": [
    "This tutorial covers database-like features of the Pandas module.  It adds new objects: Dataframes, which are tables of data, and Series, which represent a single column or row.  They provide equivalent functions to the R programming language.  They can be used to analyse tables of data within Python using similar operations to those provided by Structured Query Language ([SQL](https://en.wikipedia.org/wiki/SQL)), which is used with relational database management systems.\n",
    "\n",
    "Here, we will query the [Global Volcanism Program](http://www.volcano.si.edu/list_volcano_holocene.cfm)'s spreadsheet of Holocene volcanoes.  Many of the queries are based on the _Generate volcano trivia with this SQLite tutorial_ blog [post](http://www.volcano.si.edu/list_volcano_holocene.cfm). "
   ]
  },
  {
   "cell_type": "markdown",
   "metadata": {},
   "source": [
    "### Setting up"
   ]
  },
  {
   "cell_type": "code",
   "execution_count": 1,
   "metadata": {},
   "outputs": [
    {
     "name": "stdout",
     "output_type": "stream",
     "text": [
      "Python: 3.8.10 (default, Jun  2 2021, 10:49:15) \n",
      "[GCC 9.4.0]\n",
      "Pandas: 1.3.0\n",
      "Numpy: 1.21.0\n",
      "Matplotlib: 3.4.2\n"
     ]
    }
   ],
   "source": [
    "# Import modules\n",
    "import datetime as dt\n",
    "import os\n",
    "import sys\n",
    "import pandas as pd\n",
    "import numpy as np\n",
    "import matplotlib.pyplot as plt\n",
    "\n",
    "\n",
    "# Show plots within notebooks\n",
    "%matplotlib inline\n",
    "\n",
    "# Show module versions\n",
    "print('Python: {}'.format(sys.version))\n",
    "print('Pandas: {}'.format(pd.__version__))\n",
    "print('Numpy: {}'.format(np.__version__))\n",
    "from matplotlib import __version__ as mplv\n",
    "print('Matplotlib: {}'.format(mplv))\n",
    "\n",
    "# Setup working directory\n",
    "wdir = os.getcwd()  # Change this if required\n",
    "data_dir = os.path.join(wdir, 'data_files')\n",
    "os.chdir(wdir)"
   ]
  },
  {
   "cell_type": "markdown",
   "metadata": {},
   "source": [
    "### Import and check the data"
   ]
  },
  {
   "cell_type": "code",
   "execution_count": 2,
   "metadata": {},
   "outputs": [],
   "source": [
    "# Pandas' read_csv command has lots of options for dealing with headers, footers etc.\n",
    "gvp = pd.read_csv(os.path.join(data_dir, 'GVP_Volcano_List.csv'))"
   ]
  },
  {
   "cell_type": "code",
   "execution_count": 3,
   "metadata": {},
   "outputs": [
    {
     "name": "stdout",
     "output_type": "stream",
     "text": [
      "Index(['Volcano Number', 'Volcano Name', 'Country', 'Primary Volcano Type',\n",
      "       'Last Known Eruption', 'Region', 'Subregion', 'Latitude', 'Longitude',\n",
      "       'Elevation (m)', 'Dominant Rock Type', 'Tectonic Setting'],\n",
      "      dtype='object')\n"
     ]
    }
   ],
   "source": [
    "# Check the column names.\n",
    "print(gvp.columns)"
   ]
  },
  {
   "cell_type": "code",
   "execution_count": 4,
   "metadata": {},
   "outputs": [
    {
     "data": {
      "text/html": [
       "<div>\n",
       "<style scoped>\n",
       "    .dataframe tbody tr th:only-of-type {\n",
       "        vertical-align: middle;\n",
       "    }\n",
       "\n",
       "    .dataframe tbody tr th {\n",
       "        vertical-align: top;\n",
       "    }\n",
       "\n",
       "    .dataframe thead th {\n",
       "        text-align: right;\n",
       "    }\n",
       "</style>\n",
       "<table border=\"1\" class=\"dataframe\">\n",
       "  <thead>\n",
       "    <tr style=\"text-align: right;\">\n",
       "      <th></th>\n",
       "      <th>Volcano Number</th>\n",
       "      <th>Volcano Name</th>\n",
       "      <th>Country</th>\n",
       "      <th>Primary Volcano Type</th>\n",
       "      <th>Last Known Eruption</th>\n",
       "      <th>Region</th>\n",
       "      <th>Subregion</th>\n",
       "      <th>Latitude</th>\n",
       "      <th>Longitude</th>\n",
       "      <th>Elevation (m)</th>\n",
       "      <th>Dominant Rock Type</th>\n",
       "      <th>Tectonic Setting</th>\n",
       "    </tr>\n",
       "  </thead>\n",
       "  <tbody>\n",
       "    <tr>\n",
       "      <th>0</th>\n",
       "      <td>210010</td>\n",
       "      <td>West Eifel Volcanic Field</td>\n",
       "      <td>Germany</td>\n",
       "      <td>Maar(s)</td>\n",
       "      <td>8300 BCE</td>\n",
       "      <td>Mediterranean and W Asia</td>\n",
       "      <td>Western Europe</td>\n",
       "      <td>50.170</td>\n",
       "      <td>6.85</td>\n",
       "      <td>600.0</td>\n",
       "      <td>Foidite</td>\n",
       "      <td>Tensional Continental</td>\n",
       "    </tr>\n",
       "    <tr>\n",
       "      <th>1</th>\n",
       "      <td>210020</td>\n",
       "      <td>Chaîne des Puys</td>\n",
       "      <td>France</td>\n",
       "      <td>Lava dome(s)</td>\n",
       "      <td>4040 BCE</td>\n",
       "      <td>Mediterranean and W Asia</td>\n",
       "      <td>Western Europe</td>\n",
       "      <td>45.775</td>\n",
       "      <td>2.97</td>\n",
       "      <td>1464.0</td>\n",
       "      <td>Basalt / Picro-Basalt</td>\n",
       "      <td>Tensional Continental</td>\n",
       "    </tr>\n",
       "    <tr>\n",
       "      <th>2</th>\n",
       "      <td>210030</td>\n",
       "      <td>Olot Volcanic Field</td>\n",
       "      <td>Spain</td>\n",
       "      <td>Pyroclastic cone(s)</td>\n",
       "      <td>Unknown</td>\n",
       "      <td>Mediterranean and W Asia</td>\n",
       "      <td>Western Europe</td>\n",
       "      <td>42.170</td>\n",
       "      <td>2.53</td>\n",
       "      <td>893.0</td>\n",
       "      <td>Trachybasalt / Tephrite Basanite</td>\n",
       "      <td>Intermediate Continental</td>\n",
       "    </tr>\n",
       "    <tr>\n",
       "      <th>3</th>\n",
       "      <td>210040</td>\n",
       "      <td>Calatrava Volcanic Field</td>\n",
       "      <td>Spain</td>\n",
       "      <td>Pyroclastic cone(s)</td>\n",
       "      <td>3600 BCE</td>\n",
       "      <td>Mediterranean and W Asia</td>\n",
       "      <td>Western Europe</td>\n",
       "      <td>38.870</td>\n",
       "      <td>-4.02</td>\n",
       "      <td>1117.0</td>\n",
       "      <td>Basalt / Picro-Basalt</td>\n",
       "      <td>Intermediate Continental</td>\n",
       "    </tr>\n",
       "    <tr>\n",
       "      <th>4</th>\n",
       "      <td>211001</td>\n",
       "      <td>Larderello</td>\n",
       "      <td>Italy</td>\n",
       "      <td>Explosion crater(s)</td>\n",
       "      <td>1282 CE</td>\n",
       "      <td>Mediterranean and W Asia</td>\n",
       "      <td>Italy</td>\n",
       "      <td>43.250</td>\n",
       "      <td>10.87</td>\n",
       "      <td>500.0</td>\n",
       "      <td>No Data (checked)</td>\n",
       "      <td>Compressional Continental</td>\n",
       "    </tr>\n",
       "  </tbody>\n",
       "</table>\n",
       "</div>"
      ],
      "text/plain": [
       "   Volcano Number               Volcano Name  Country Primary Volcano Type  \\\n",
       "0          210010  West Eifel Volcanic Field  Germany              Maar(s)   \n",
       "1          210020            Chaîne des Puys   France         Lava dome(s)   \n",
       "2          210030        Olot Volcanic Field    Spain  Pyroclastic cone(s)   \n",
       "3          210040   Calatrava Volcanic Field    Spain  Pyroclastic cone(s)   \n",
       "4          211001                 Larderello    Italy  Explosion crater(s)   \n",
       "\n",
       "  Last Known Eruption                    Region       Subregion  Latitude  \\\n",
       "0            8300 BCE  Mediterranean and W Asia  Western Europe    50.170   \n",
       "1            4040 BCE  Mediterranean and W Asia  Western Europe    45.775   \n",
       "2             Unknown  Mediterranean and W Asia  Western Europe    42.170   \n",
       "3            3600 BCE  Mediterranean and W Asia  Western Europe    38.870   \n",
       "4             1282 CE  Mediterranean and W Asia           Italy    43.250   \n",
       "\n",
       "   Longitude  Elevation (m)                Dominant Rock Type  \\\n",
       "0       6.85          600.0                           Foidite   \n",
       "1       2.97         1464.0             Basalt / Picro-Basalt   \n",
       "2       2.53          893.0  Trachybasalt / Tephrite Basanite   \n",
       "3      -4.02         1117.0             Basalt / Picro-Basalt   \n",
       "4      10.87          500.0                 No Data (checked)   \n",
       "\n",
       "            Tectonic Setting  \n",
       "0      Tensional Continental  \n",
       "1      Tensional Continental  \n",
       "2   Intermediate Continental  \n",
       "3   Intermediate Continental  \n",
       "4  Compressional Continental  "
      ]
     },
     "execution_count": 4,
     "metadata": {},
     "output_type": "execute_result"
    }
   ],
   "source": [
    "# View the first 5 entries\n",
    "gvp.head()"
   ]
  },
  {
   "cell_type": "code",
   "execution_count": 5,
   "metadata": {},
   "outputs": [
    {
     "data": {
      "text/html": [
       "<div>\n",
       "<style scoped>\n",
       "    .dataframe tbody tr th:only-of-type {\n",
       "        vertical-align: middle;\n",
       "    }\n",
       "\n",
       "    .dataframe tbody tr th {\n",
       "        vertical-align: top;\n",
       "    }\n",
       "\n",
       "    .dataframe thead th {\n",
       "        text-align: right;\n",
       "    }\n",
       "</style>\n",
       "<table border=\"1\" class=\"dataframe\">\n",
       "  <thead>\n",
       "    <tr style=\"text-align: right;\">\n",
       "      <th></th>\n",
       "      <th>Volcano Number</th>\n",
       "      <th>Volcano Name</th>\n",
       "      <th>Country</th>\n",
       "      <th>Primary Volcano Type</th>\n",
       "      <th>Last Known Eruption</th>\n",
       "      <th>Region</th>\n",
       "      <th>Subregion</th>\n",
       "      <th>Latitude</th>\n",
       "      <th>Longitude</th>\n",
       "      <th>Elevation (m)</th>\n",
       "      <th>Dominant Rock Type</th>\n",
       "      <th>Tectonic Setting</th>\n",
       "    </tr>\n",
       "  </thead>\n",
       "  <tbody>\n",
       "    <tr>\n",
       "      <th>1553</th>\n",
       "      <td>390130</td>\n",
       "      <td>Zavodovski</td>\n",
       "      <td>United Kingdom</td>\n",
       "      <td>Stratovolcano</td>\n",
       "      <td>1819 CE</td>\n",
       "      <td>Antarctica</td>\n",
       "      <td>Antarctica and South Sandwich Islands</td>\n",
       "      <td>-56.30</td>\n",
       "      <td>-27.57</td>\n",
       "      <td>551.0</td>\n",
       "      <td>Basalt / Picro-Basalt</td>\n",
       "      <td>Compressional Oceanic</td>\n",
       "    </tr>\n",
       "    <tr>\n",
       "      <th>1554</th>\n",
       "      <td>390140</td>\n",
       "      <td>Protector Shoal</td>\n",
       "      <td>United Kingdom</td>\n",
       "      <td>Submarine</td>\n",
       "      <td>1962 CE</td>\n",
       "      <td>Antarctica</td>\n",
       "      <td>Antarctica and South Sandwich Islands</td>\n",
       "      <td>-55.92</td>\n",
       "      <td>-28.08</td>\n",
       "      <td>-27.0</td>\n",
       "      <td>Rhyolite</td>\n",
       "      <td>Compressional Oceanic</td>\n",
       "    </tr>\n",
       "  </tbody>\n",
       "</table>\n",
       "</div>"
      ],
      "text/plain": [
       "      Volcano Number     Volcano Name         Country Primary Volcano Type  \\\n",
       "1553          390130       Zavodovski  United Kingdom        Stratovolcano   \n",
       "1554          390140  Protector Shoal  United Kingdom            Submarine   \n",
       "\n",
       "     Last Known Eruption      Region                              Subregion  \\\n",
       "1553             1819 CE  Antarctica  Antarctica and South Sandwich Islands   \n",
       "1554             1962 CE  Antarctica  Antarctica and South Sandwich Islands   \n",
       "\n",
       "      Latitude  Longitude  Elevation (m)     Dominant Rock Type  \\\n",
       "1553    -56.30     -27.57          551.0  Basalt / Picro-Basalt   \n",
       "1554    -55.92     -28.08          -27.0               Rhyolite   \n",
       "\n",
       "           Tectonic Setting  \n",
       "1553  Compressional Oceanic  \n",
       "1554  Compressional Oceanic  "
      ]
     },
     "execution_count": 5,
     "metadata": {},
     "output_type": "execute_result"
    }
   ],
   "source": [
    "# View the last 2 entries\n",
    "gvp.tail(2)"
   ]
  },
  {
   "cell_type": "markdown",
   "metadata": {},
   "source": [
    "### Accessing data"
   ]
  },
  {
   "cell_type": "code",
   "execution_count": 6,
   "metadata": {},
   "outputs": [
    {
     "data": {
      "text/plain": [
       "1550    1911 CE\n",
       "1551    Unknown\n",
       "1552    Unknown\n",
       "1553    1819 CE\n",
       "1554    1962 CE\n",
       "Name: Last Known Eruption, dtype: object"
      ]
     },
     "execution_count": 6,
     "metadata": {},
     "output_type": "execute_result"
    }
   ],
   "source": [
    "# Access individual columns as Pandas series using Python dictionary syntax.\n",
    "gvp['Last Known Eruption'].tail()"
   ]
  },
  {
   "cell_type": "code",
   "execution_count": 7,
   "metadata": {},
   "outputs": [
    {
     "name": "stdout",
     "output_type": "stream",
     "text": [
      "count    1508.000000\n",
      "mean     1680.289788\n",
      "std      1617.967809\n",
      "min     -6000.000000\n",
      "25%       727.250000\n",
      "50%      1484.500000\n",
      "75%      2375.250000\n",
      "max      6887.000000\n",
      "Name: Elevation (m), dtype: float64\n"
     ]
    }
   ],
   "source": [
    "#  Get summary statistics for a column\n",
    "print(gvp['Elevation (m)'].describe())"
   ]
  },
  {
   "cell_type": "code",
   "execution_count": 8,
   "metadata": {},
   "outputs": [
    {
     "data": {
      "text/html": [
       "<div>\n",
       "<style scoped>\n",
       "    .dataframe tbody tr th:only-of-type {\n",
       "        vertical-align: middle;\n",
       "    }\n",
       "\n",
       "    .dataframe tbody tr th {\n",
       "        vertical-align: top;\n",
       "    }\n",
       "\n",
       "    .dataframe thead th {\n",
       "        text-align: right;\n",
       "    }\n",
       "</style>\n",
       "<table border=\"1\" class=\"dataframe\">\n",
       "  <thead>\n",
       "    <tr style=\"text-align: right;\">\n",
       "      <th></th>\n",
       "      <th>Volcano Number</th>\n",
       "      <th>Volcano Name</th>\n",
       "      <th>Country</th>\n",
       "      <th>Primary Volcano Type</th>\n",
       "      <th>Last Known Eruption</th>\n",
       "      <th>Region</th>\n",
       "      <th>Subregion</th>\n",
       "      <th>Latitude</th>\n",
       "      <th>Longitude</th>\n",
       "      <th>Elevation (m)</th>\n",
       "      <th>Dominant Rock Type</th>\n",
       "      <th>Tectonic Setting</th>\n",
       "    </tr>\n",
       "  </thead>\n",
       "  <tbody>\n",
       "    <tr>\n",
       "      <th>150</th>\n",
       "      <td>223004</td>\n",
       "      <td>Bunyaruguru</td>\n",
       "      <td>Uganda</td>\n",
       "      <td>Maar(s)</td>\n",
       "      <td>Unknown</td>\n",
       "      <td>Africa and Red Sea</td>\n",
       "      <td>Africa (central)</td>\n",
       "      <td>-0.200</td>\n",
       "      <td>30.080</td>\n",
       "      <td>1554.0</td>\n",
       "      <td>Foidite</td>\n",
       "      <td>Tensional Continental</td>\n",
       "    </tr>\n",
       "    <tr>\n",
       "      <th>151</th>\n",
       "      <td>223005</td>\n",
       "      <td>Katunga</td>\n",
       "      <td>Uganda</td>\n",
       "      <td>Tuff cone</td>\n",
       "      <td>Unknown</td>\n",
       "      <td>Africa and Red Sea</td>\n",
       "      <td>Africa (central)</td>\n",
       "      <td>-0.471</td>\n",
       "      <td>30.191</td>\n",
       "      <td>1707.0</td>\n",
       "      <td>Foidite</td>\n",
       "      <td>Tensional Continental</td>\n",
       "    </tr>\n",
       "    <tr>\n",
       "      <th>152</th>\n",
       "      <td>223010</td>\n",
       "      <td>May-ya-moto</td>\n",
       "      <td>DR Congo</td>\n",
       "      <td>Hydrothermal field(fumarolic)</td>\n",
       "      <td>Unknown</td>\n",
       "      <td>Africa and Red Sea</td>\n",
       "      <td>Africa (central)</td>\n",
       "      <td>-0.930</td>\n",
       "      <td>29.330</td>\n",
       "      <td>950.0</td>\n",
       "      <td>No Data (checked)</td>\n",
       "      <td>Tensional Continental</td>\n",
       "    </tr>\n",
       "    <tr>\n",
       "      <th>153</th>\n",
       "      <td>223020</td>\n",
       "      <td>Nyamuragira</td>\n",
       "      <td>DR Congo</td>\n",
       "      <td>Shield</td>\n",
       "      <td>2012 CE</td>\n",
       "      <td>Africa and Red Sea</td>\n",
       "      <td>Africa (central)</td>\n",
       "      <td>-1.408</td>\n",
       "      <td>29.200</td>\n",
       "      <td>3058.0</td>\n",
       "      <td>Trachybasalt / Tephrite Basanite</td>\n",
       "      <td>Tensional Continental</td>\n",
       "    </tr>\n",
       "    <tr>\n",
       "      <th>154</th>\n",
       "      <td>223030</td>\n",
       "      <td>Nyiragongo</td>\n",
       "      <td>DR Congo</td>\n",
       "      <td>Stratovolcano</td>\n",
       "      <td>2013 CE</td>\n",
       "      <td>Africa and Red Sea</td>\n",
       "      <td>Africa (central)</td>\n",
       "      <td>-1.520</td>\n",
       "      <td>29.250</td>\n",
       "      <td>3470.0</td>\n",
       "      <td>Foidite</td>\n",
       "      <td>Tensional Continental</td>\n",
       "    </tr>\n",
       "  </tbody>\n",
       "</table>\n",
       "</div>"
      ],
      "text/plain": [
       "     Volcano Number Volcano Name   Country           Primary Volcano Type  \\\n",
       "150          223004  Bunyaruguru    Uganda                        Maar(s)   \n",
       "151          223005      Katunga    Uganda                      Tuff cone   \n",
       "152          223010  May-ya-moto  DR Congo  Hydrothermal field(fumarolic)   \n",
       "153          223020  Nyamuragira  DR Congo                         Shield   \n",
       "154          223030   Nyiragongo  DR Congo                  Stratovolcano   \n",
       "\n",
       "    Last Known Eruption              Region         Subregion  Latitude  \\\n",
       "150             Unknown  Africa and Red Sea  Africa (central)    -0.200   \n",
       "151             Unknown  Africa and Red Sea  Africa (central)    -0.471   \n",
       "152             Unknown  Africa and Red Sea  Africa (central)    -0.930   \n",
       "153             2012 CE  Africa and Red Sea  Africa (central)    -1.408   \n",
       "154             2013 CE  Africa and Red Sea  Africa (central)    -1.520   \n",
       "\n",
       "     Longitude  Elevation (m)                Dominant Rock Type  \\\n",
       "150     30.080         1554.0                           Foidite   \n",
       "151     30.191         1707.0                           Foidite   \n",
       "152     29.330          950.0                 No Data (checked)   \n",
       "153     29.200         3058.0  Trachybasalt / Tephrite Basanite   \n",
       "154     29.250         3470.0                           Foidite   \n",
       "\n",
       "          Tectonic Setting  \n",
       "150  Tensional Continental  \n",
       "151  Tensional Continental  \n",
       "152  Tensional Continental  \n",
       "153  Tensional Continental  \n",
       "154  Tensional Continental  "
      ]
     },
     "execution_count": 8,
     "metadata": {},
     "output_type": "execute_result"
    }
   ],
   "source": [
    "# Data rows can be sliced based on their position\n",
    "gvp[150:155]"
   ]
  },
  {
   "cell_type": "code",
   "execution_count": 9,
   "metadata": {},
   "outputs": [
    {
     "data": {
      "text/plain": [
       "Volcano Number                                372070\n",
       "Country                                      Iceland\n",
       "Primary Volcano Type                   Stratovolcano\n",
       "Last Known Eruption                          2000 CE\n",
       "Region                      Iceland and Arctic Ocean\n",
       "Subregion                         Iceland (southern)\n",
       "Latitude                                       63.98\n",
       "Longitude                                      -19.7\n",
       "Elevation (m)                                 1491.0\n",
       "Dominant Rock Type      Andesite / Basaltic Andesite\n",
       "Tectonic Setting                   Tensional Oceanic\n",
       "Name: Hekla, dtype: object"
      ]
     },
     "execution_count": 9,
     "metadata": {},
     "output_type": "execute_result"
    }
   ],
   "source": [
    "# Using the index and the '.loc' command gives more meaningful access to the rows\n",
    "gvp_names = gvp.set_index('Volcano Name')  # Make a copy with the Name column as the index\n",
    "gvp_names.loc['Hekla']  # What information is there on Hekla?"
   ]
  },
  {
   "cell_type": "code",
   "execution_count": 10,
   "metadata": {},
   "outputs": [
    {
     "data": {
      "text/plain": [
       "Volcano Name\n",
       "Fuji    3776.0\n",
       "Etna    3330.0\n",
       "Name: Elevation (m), dtype: float64"
      ]
     },
     "execution_count": 10,
     "metadata": {},
     "output_type": "execute_result"
    }
   ],
   "source": [
    "# The '.loc' command accepts lists of rows and columns\n",
    "gvp_names.loc[['Fuji', 'Etna'], 'Elevation (m)']  # Which is taller, Fuji or Etna?"
   ]
  },
  {
   "cell_type": "code",
   "execution_count": 11,
   "metadata": {},
   "outputs": [
    {
     "data": {
      "text/html": [
       "<div>\n",
       "<style scoped>\n",
       "    .dataframe tbody tr th:only-of-type {\n",
       "        vertical-align: middle;\n",
       "    }\n",
       "\n",
       "    .dataframe tbody tr th {\n",
       "        vertical-align: top;\n",
       "    }\n",
       "\n",
       "    .dataframe thead th {\n",
       "        text-align: right;\n",
       "    }\n",
       "</style>\n",
       "<table border=\"1\" class=\"dataframe\">\n",
       "  <thead>\n",
       "    <tr style=\"text-align: right;\">\n",
       "      <th></th>\n",
       "      <th>Latitude</th>\n",
       "      <th>Longitude</th>\n",
       "    </tr>\n",
       "    <tr>\n",
       "      <th>Volcano Name</th>\n",
       "      <th></th>\n",
       "      <th></th>\n",
       "    </tr>\n",
       "  </thead>\n",
       "  <tbody>\n",
       "    <tr>\n",
       "      <th>Snaefellsjökull</th>\n",
       "      <td>64.800</td>\n",
       "      <td>-23.780</td>\n",
       "    </tr>\n",
       "    <tr>\n",
       "      <th>Helgrindur</th>\n",
       "      <td>64.870</td>\n",
       "      <td>-23.250</td>\n",
       "    </tr>\n",
       "    <tr>\n",
       "      <th>Ljósufjöll</th>\n",
       "      <td>64.870</td>\n",
       "      <td>-22.230</td>\n",
       "    </tr>\n",
       "    <tr>\n",
       "      <th>Reykjanes</th>\n",
       "      <td>63.880</td>\n",
       "      <td>-22.500</td>\n",
       "    </tr>\n",
       "    <tr>\n",
       "      <th>Krísuvík</th>\n",
       "      <td>63.930</td>\n",
       "      <td>-22.100</td>\n",
       "    </tr>\n",
       "    <tr>\n",
       "      <th>Brennisteinsfjöll</th>\n",
       "      <td>63.920</td>\n",
       "      <td>-21.830</td>\n",
       "    </tr>\n",
       "    <tr>\n",
       "      <th>Hengill</th>\n",
       "      <td>64.080</td>\n",
       "      <td>-21.320</td>\n",
       "    </tr>\n",
       "    <tr>\n",
       "      <th>Hrómundartindur</th>\n",
       "      <td>64.073</td>\n",
       "      <td>-21.202</td>\n",
       "    </tr>\n",
       "    <tr>\n",
       "      <th>Grímsnes</th>\n",
       "      <td>64.030</td>\n",
       "      <td>-20.870</td>\n",
       "    </tr>\n",
       "    <tr>\n",
       "      <th>Prestahnukur</th>\n",
       "      <td>64.600</td>\n",
       "      <td>-20.580</td>\n",
       "    </tr>\n",
       "    <tr>\n",
       "      <th>Hveravellir</th>\n",
       "      <td>64.750</td>\n",
       "      <td>-19.980</td>\n",
       "    </tr>\n",
       "    <tr>\n",
       "      <th>Hofsjökull</th>\n",
       "      <td>64.780</td>\n",
       "      <td>-18.920</td>\n",
       "    </tr>\n",
       "    <tr>\n",
       "      <th>Vestmannaeyjar</th>\n",
       "      <td>63.430</td>\n",
       "      <td>-20.280</td>\n",
       "    </tr>\n",
       "    <tr>\n",
       "      <th>Eyjafjallajökull</th>\n",
       "      <td>63.630</td>\n",
       "      <td>-19.620</td>\n",
       "    </tr>\n",
       "    <tr>\n",
       "      <th>Katla</th>\n",
       "      <td>63.630</td>\n",
       "      <td>-19.050</td>\n",
       "    </tr>\n",
       "    <tr>\n",
       "      <th>Tindfjallajökull</th>\n",
       "      <td>63.780</td>\n",
       "      <td>-19.570</td>\n",
       "    </tr>\n",
       "    <tr>\n",
       "      <th>Torfajökull</th>\n",
       "      <td>63.920</td>\n",
       "      <td>-19.170</td>\n",
       "    </tr>\n",
       "    <tr>\n",
       "      <th>Hekla</th>\n",
       "      <td>63.980</td>\n",
       "      <td>-19.700</td>\n",
       "    </tr>\n",
       "    <tr>\n",
       "      <th>Grímsvötn</th>\n",
       "      <td>64.420</td>\n",
       "      <td>-17.330</td>\n",
       "    </tr>\n",
       "    <tr>\n",
       "      <th>Bárdarbunga</th>\n",
       "      <td>64.630</td>\n",
       "      <td>-17.530</td>\n",
       "    </tr>\n",
       "    <tr>\n",
       "      <th>Tungnafellsjökull</th>\n",
       "      <td>64.730</td>\n",
       "      <td>-17.920</td>\n",
       "    </tr>\n",
       "    <tr>\n",
       "      <th>Kverkfjöll</th>\n",
       "      <td>64.650</td>\n",
       "      <td>-16.720</td>\n",
       "    </tr>\n",
       "    <tr>\n",
       "      <th>Askja</th>\n",
       "      <td>65.030</td>\n",
       "      <td>-16.750</td>\n",
       "    </tr>\n",
       "    <tr>\n",
       "      <th>Fremrinamur</th>\n",
       "      <td>65.430</td>\n",
       "      <td>-16.650</td>\n",
       "    </tr>\n",
       "    <tr>\n",
       "      <th>Krafla</th>\n",
       "      <td>65.730</td>\n",
       "      <td>-16.780</td>\n",
       "    </tr>\n",
       "    <tr>\n",
       "      <th>Theistareykjarbunga</th>\n",
       "      <td>65.880</td>\n",
       "      <td>-16.830</td>\n",
       "    </tr>\n",
       "    <tr>\n",
       "      <th>Tjörnes Fracture Zone</th>\n",
       "      <td>66.300</td>\n",
       "      <td>-17.100</td>\n",
       "    </tr>\n",
       "    <tr>\n",
       "      <th>Öraefajökull</th>\n",
       "      <td>64.000</td>\n",
       "      <td>-16.650</td>\n",
       "    </tr>\n",
       "    <tr>\n",
       "      <th>Esjufjöll</th>\n",
       "      <td>64.270</td>\n",
       "      <td>-16.650</td>\n",
       "    </tr>\n",
       "    <tr>\n",
       "      <th>Kolbeinsey Ridge</th>\n",
       "      <td>66.670</td>\n",
       "      <td>-18.500</td>\n",
       "    </tr>\n",
       "  </tbody>\n",
       "</table>\n",
       "</div>"
      ],
      "text/plain": [
       "                       Latitude  Longitude\n",
       "Volcano Name                              \n",
       "Snaefellsjökull          64.800    -23.780\n",
       "Helgrindur               64.870    -23.250\n",
       "Ljósufjöll               64.870    -22.230\n",
       "Reykjanes                63.880    -22.500\n",
       "Krísuvík                 63.930    -22.100\n",
       "Brennisteinsfjöll        63.920    -21.830\n",
       "Hengill                  64.080    -21.320\n",
       "Hrómundartindur          64.073    -21.202\n",
       "Grímsnes                 64.030    -20.870\n",
       "Prestahnukur             64.600    -20.580\n",
       "Hveravellir              64.750    -19.980\n",
       "Hofsjökull               64.780    -18.920\n",
       "Vestmannaeyjar           63.430    -20.280\n",
       "Eyjafjallajökull         63.630    -19.620\n",
       "Katla                    63.630    -19.050\n",
       "Tindfjallajökull         63.780    -19.570\n",
       "Torfajökull              63.920    -19.170\n",
       "Hekla                    63.980    -19.700\n",
       "Grímsvötn                64.420    -17.330\n",
       "Bárdarbunga              64.630    -17.530\n",
       "Tungnafellsjökull        64.730    -17.920\n",
       "Kverkfjöll               64.650    -16.720\n",
       "Askja                    65.030    -16.750\n",
       "Fremrinamur              65.430    -16.650\n",
       "Krafla                   65.730    -16.780\n",
       "Theistareykjarbunga      65.880    -16.830\n",
       "Tjörnes Fracture Zone    66.300    -17.100\n",
       "Öraefajökull             64.000    -16.650\n",
       "Esjufjöll                64.270    -16.650\n",
       "Kolbeinsey Ridge         66.670    -18.500"
      ]
     },
     "execution_count": 11,
     "metadata": {},
     "output_type": "execute_result"
    }
   ],
   "source": [
    "#  True/False (Boolean) indexing can be used to perform SQL-like 'WHERE' queries.\n",
    "gvp_names.loc[gvp_names['Country'] == 'Iceland', ['Latitude', 'Longitude']]  # Where are Iceland's volcanoes?"
   ]
  },
  {
   "cell_type": "markdown",
   "metadata": {},
   "source": [
    "### Manipulating data within the columns"
   ]
  },
  {
   "cell_type": "code",
   "execution_count": 12,
   "metadata": {},
   "outputs": [
    {
     "data": {
      "text/plain": [
       "Volcano Name\n",
       "West Eifel Volcanic Field    0.600\n",
       "Chaîne des Puys              1.464\n",
       "Olot Volcanic Field          0.893\n",
       "Calatrava Volcanic Field     1.117\n",
       "Larderello                   0.500\n",
       "Name: Elevation (km), dtype: float64"
      ]
     },
     "execution_count": 12,
     "metadata": {},
     "output_type": "execute_result"
    }
   ],
   "source": [
    "# Add extra columns using dictionary assignment notation\n",
    "gvp_names['Elevation (km)'] = gvp_names['Elevation (m)']/1000.0\n",
    "gvp_names['Elevation (km)'].head()"
   ]
  },
  {
   "cell_type": "code",
   "execution_count": 13,
   "metadata": {},
   "outputs": [
    {
     "name": "stdout",
     "output_type": "stream",
     "text": [
      "0    MEDITERRANEAN AND W ASIA\n",
      "1    MEDITERRANEAN AND W ASIA\n",
      "2    MEDITERRANEAN AND W ASIA\n",
      "3    MEDITERRANEAN AND W ASIA\n",
      "4    MEDITERRANEAN AND W ASIA\n",
      "Name: Region, dtype: object\n",
      "\n",
      "0    Mediterranean & W Asia\n",
      "1    Mediterranean & W Asia\n",
      "2    Mediterranean & W Asia\n",
      "3    Mediterranean & W Asia\n",
      "4    Mediterranean & W Asia\n",
      "Name: Region, dtype: object\n",
      "\n",
      "0    True\n",
      "1    True\n",
      "2    True\n",
      "3    True\n",
      "4    True\n",
      "Name: Region, dtype: bool\n"
     ]
    }
   ],
   "source": [
    "#  Operations on Series that contains text strings are done with the .str.command syntax\n",
    "gvp_regions = gvp['Region']\n",
    "print(gvp_regions.str.upper().head())  # Make text ALL CAPS\n",
    "print()\n",
    "print(gvp_regions.str.replace('and', '&').head())  # find and replace\n",
    "print()\n",
    "print(gvp_regions.str.contains('Asia').head())  # Search the text"
   ]
  },
  {
   "cell_type": "code",
   "execution_count": 14,
   "metadata": {},
   "outputs": [
    {
     "data": {
      "text/html": [
       "<div>\n",
       "<style scoped>\n",
       "    .dataframe tbody tr th:only-of-type {\n",
       "        vertical-align: middle;\n",
       "    }\n",
       "\n",
       "    .dataframe tbody tr th {\n",
       "        vertical-align: top;\n",
       "    }\n",
       "\n",
       "    .dataframe thead th {\n",
       "        text-align: right;\n",
       "    }\n",
       "</style>\n",
       "<table border=\"1\" class=\"dataframe\">\n",
       "  <thead>\n",
       "    <tr style=\"text-align: right;\">\n",
       "      <th></th>\n",
       "      <th>Volcano Name</th>\n",
       "      <th>Country</th>\n",
       "    </tr>\n",
       "    <tr>\n",
       "      <th>Last Known Eruption Year</th>\n",
       "      <th></th>\n",
       "      <th></th>\n",
       "    </tr>\n",
       "  </thead>\n",
       "  <tbody>\n",
       "    <tr>\n",
       "      <th>1914.0</th>\n",
       "      <td>Nakanoshima</td>\n",
       "      <td>Japan</td>\n",
       "    </tr>\n",
       "    <tr>\n",
       "      <th>1914.0</th>\n",
       "      <td>Goriaschaia Sopka</td>\n",
       "      <td>Russia</td>\n",
       "    </tr>\n",
       "    <tr>\n",
       "      <th>1914.0</th>\n",
       "      <td>Tanaga</td>\n",
       "      <td>United States</td>\n",
       "    </tr>\n",
       "    <tr>\n",
       "      <th>1915.0</th>\n",
       "      <td>Alayta</td>\n",
       "      <td>Ethiopia</td>\n",
       "    </tr>\n",
       "    <tr>\n",
       "      <th>1915.0</th>\n",
       "      <td>Southern EPR-Segment I</td>\n",
       "      <td>Undersea Features</td>\n",
       "    </tr>\n",
       "    <tr>\n",
       "      <th>1916.0</th>\n",
       "      <td>Smith Rock</td>\n",
       "      <td>Japan</td>\n",
       "    </tr>\n",
       "    <tr>\n",
       "      <th>1917.0</th>\n",
       "      <td>Tinguiririca</td>\n",
       "      <td>Chile</td>\n",
       "    </tr>\n",
       "    <tr>\n",
       "      <th>1917.0</th>\n",
       "      <td>Agrigan</td>\n",
       "      <td>United States</td>\n",
       "    </tr>\n",
       "    <tr>\n",
       "      <th>1917.0</th>\n",
       "      <td>Lassen Volcanic Center</td>\n",
       "      <td>United States</td>\n",
       "    </tr>\n",
       "    <tr>\n",
       "      <th>1917.0</th>\n",
       "      <td>San Salvador</td>\n",
       "      <td>El Salvador</td>\n",
       "    </tr>\n",
       "    <tr>\n",
       "      <th>1918.0</th>\n",
       "      <td>Katla</td>\n",
       "      <td>Iceland</td>\n",
       "    </tr>\n",
       "    <tr>\n",
       "      <th>1919.0</th>\n",
       "      <td>Banua Wuhu</td>\n",
       "      <td>Indonesia</td>\n",
       "    </tr>\n",
       "    <tr>\n",
       "      <th>1919.0</th>\n",
       "      <td>Iwate</td>\n",
       "      <td>Japan</td>\n",
       "    </tr>\n",
       "  </tbody>\n",
       "</table>\n",
       "</div>"
      ],
      "text/plain": [
       "                                    Volcano Name            Country\n",
       "Last Known Eruption Year                                           \n",
       "1914.0                               Nakanoshima              Japan\n",
       "1914.0                         Goriaschaia Sopka             Russia\n",
       "1914.0                                    Tanaga      United States\n",
       "1915.0                                    Alayta           Ethiopia\n",
       "1915.0                    Southern EPR-Segment I  Undersea Features\n",
       "1916.0                                Smith Rock              Japan\n",
       "1917.0                              Tinguiririca              Chile\n",
       "1917.0                                   Agrigan      United States\n",
       "1917.0                    Lassen Volcanic Center      United States\n",
       "1917.0                              San Salvador        El Salvador\n",
       "1918.0                                     Katla            Iceland\n",
       "1919.0                                Banua Wuhu          Indonesia\n",
       "1919.0                                     Iwate              Japan"
      ]
     },
     "execution_count": 14,
     "metadata": {},
     "output_type": "execute_result"
    }
   ],
   "source": [
    "#  Use the .map method to apply a function to every entry in a column\n",
    "\n",
    "# Define a function to convert text year into numerical value\n",
    "def extract_year(year_string):\n",
    "    \"\"\"Drop the CE or BCE suffix from a date, e.g. '2015 CE', returning an integer.\n",
    "    This allows sorting and indexing by the numerical value of the year.\"\"\"\n",
    "    if year_string == 'Unknown':\n",
    "        return None\n",
    "    \n",
    "    year = year_string.split()[0]\n",
    "    suffix = year_string.split()[1]\n",
    "    \n",
    "    if suffix == 'CE':\n",
    "        return int(year)\n",
    "    elif suffix == 'BCE':\n",
    "        return -1 * int(year)\n",
    "    else:\n",
    "        raise ValueError('Cannot parse {} as eruption year.'.format(year_string))\n",
    "\n",
    "# Add numerical date column and analyse\n",
    "gvp['Last Known Eruption Year'] = gvp['Last Known Eruption'].map(extract_year)  # Applying functions to change values\n",
    "gvp_years = gvp.dropna(subset=['Last Known Eruption Year']).set_index('Last Known Eruption Year').sort_index()\n",
    "gvp_years.loc[1914:1919, ['Volcano Name', 'Country']]  # Volcanoes that began erupting during the First World War."
   ]
  },
  {
   "cell_type": "markdown",
   "metadata": {},
   "source": [
    "## Exercises"
   ]
  },
  {
   "cell_type": "markdown",
   "metadata": {},
   "source": [
    "1. How many volcanoes are in Spain?\n",
    "2. Which is further north, Cotopaxi or Kilimanjaro?"
   ]
  },
  {
   "cell_type": "markdown",
   "metadata": {},
   "source": [
    "# Database-like analysis\n",
    "\n",
    "Pandas dataframes can be manipulated in the same way as SQL-based databases."
   ]
  },
  {
   "cell_type": "code",
   "execution_count": 15,
   "metadata": {},
   "outputs": [
    {
     "data": {
      "text/plain": [
       "Volcano Name\n",
       "Ojos del Salado, Nevados    6887.0\n",
       "Llullaillaco                6739.0\n",
       "Tipas                       6660.0\n",
       "Incahuasi, Nevado de        6621.0\n",
       "Cóndor, Cerro el            6532.0\n",
       "Coropuna                    6377.0\n",
       "Parinacota                  6348.0\n",
       "Chimborazo                  6310.0\n",
       "Pular                       6233.0\n",
       "Solo, El                    6190.0\n",
       "Name: Elevation (m), dtype: float64"
      ]
     },
     "execution_count": 15,
     "metadata": {},
     "output_type": "execute_result"
    }
   ],
   "source": [
    "#  Perform SQL-like SELECT and ORDER BY operations\n",
    "gvp_names['Elevation (m)'].sort_values(ascending=False).head(10)"
   ]
  },
  {
   "cell_type": "code",
   "execution_count": 16,
   "metadata": {},
   "outputs": [
    {
     "data": {
      "text/plain": [
       "Country\n",
       "United States       184\n",
       "Russia              154\n",
       "Indonesia           142\n",
       "Japan               114\n",
       "Chile                78\n",
       "Papua New Guinea     56\n",
       "Ethiopia             54\n",
       "Philippines          47\n",
       "Mexico               39\n",
       "Ecuador              34\n",
       "dtype: int64"
      ]
     },
     "execution_count": 16,
     "metadata": {},
     "output_type": "execute_result"
    }
   ],
   "source": [
    "#  Perform SQL-like GROUP BY operations\n",
    "country_counts = gvp_names.groupby('Country').size()  # Count the number of volcanoes per country\n",
    "country_counts.sort_values(ascending=False).head(10)  # Top 10 most volcanically active countries"
   ]
  },
  {
   "cell_type": "code",
   "execution_count": 17,
   "metadata": {},
   "outputs": [
    {
     "data": {
      "text/plain": [
       "Text(0, 0.5, 'Mean elevation (m)')"
      ]
     },
     "execution_count": 17,
     "metadata": {},
     "output_type": "execute_result"
    },
    {
     "data": {
      "image/png": "[encoded data removed]",
      "text/plain": [
       "<Figure size 432x288 with 1 Axes>"
      ]
     },
     "metadata": {
      "needs_background": "light"
     },
     "output_type": "display_data"
    }
   ],
   "source": [
    "#  Plot results of groupby operations\n",
    "type_sizes = gvp.groupby('Primary Volcano Type')['Elevation (m)'].mean()\n",
    "type_sizes.plot(kind='bar')\n",
    "plt.ylabel('Mean elevation (m)')\n",
    "\n",
    "# Guess what: submarine volcanoes have the lowest mean elevations!"
   ]
  },
  {
   "cell_type": "code",
   "execution_count": 18,
   "metadata": {},
   "outputs": [
    {
     "name": "stdout",
     "output_type": "stream",
     "text": [
      "Index(['Volcano Number', 'Volcano Name', 'Country', 'Primary Volcano Type',\n",
      "       'Last Known Eruption', 'Region', 'Subregion', 'Latitude', 'Longitude',\n",
      "       'Elevation (m)', 'Dominant Rock Type', 'Tectonic Setting',\n",
      "       'Last Known Eruption Year', 'Population', 'Life expectancy at birth',\n",
      "       'Area', 'Natural hazards', 'GDP per capita ($ PPP)'],\n",
      "      dtype='object')\n"
     ]
    }
   ],
   "source": [
    "#  Use the pd.merge function to perform SQL-like JOINs of data tables\n",
    "factbook = pd.read_csv(os.path.join(data_dir, 'factbook_extracts.csv'))\n",
    "# CIA World Factbook data modified from https://www.google.com/fusiontables/DataSource?snapid=134490\n",
    "\n",
    "gvp_factbook = pd.merge(gvp, factbook, left_on='Country', right_on='Country', how='inner')\n",
    "print(gvp_factbook.columns)  # Note the extra columns"
   ]
  },
  {
   "cell_type": "code",
   "execution_count": 19,
   "metadata": {},
   "outputs": [
    {
     "name": "stdout",
     "output_type": "stream",
     "text": [
      "483 of 1555 volcanoes are in countries with GDP per capita <$5000.\n",
      "\n"
     ]
    }
   ],
   "source": [
    "#  Perform queries using data from both tables - what proportion of volcanoes are in the poorest countries?\n",
    "LOW_GDP_CUTOFF = 5000  # By convention, use ALL_CAPS for constants\n",
    "low_gdp_volcanoes = gvp_factbook.loc[gvp_factbook['GDP per capita ($ PPP)'] < LOW_GDP_CUTOFF]\n",
    "msg = '{} of {} volcanoes are in countries with GDP per capita <${}.\\n'.format(\n",
    "    len(low_gdp_volcanoes),\n",
    "    len(gvp),\n",
    "    LOW_GDP_CUTOFF)\n",
    "print(msg)"
   ]
  },
  {
   "cell_type": "code",
   "execution_count": 20,
   "metadata": {},
   "outputs": [
    {
     "data": {
      "text/plain": [
       "Region\n",
       "Japan, Taiwan, Marianas         81.847213\n",
       "Canada and Western USA          81.230000\n",
       "Hawaii and Pacific Ocean        80.980000\n",
       "Iceland and Arctic Ocean        80.646774\n",
       "Atlantic Ocean                  77.767692\n",
       "Mediterranean and W Asia        76.542500\n",
       "South America                   75.518757\n",
       "West Indies                     75.127333\n",
       "México and Central America      73.525478\n",
       "Philippines and SE Asia         71.270000\n",
       "New Zealand to Fiji             71.251250\n",
       "Indonesia                       70.765448\n",
       "Middle East and Indian Ocean    69.988545\n",
       "Melanesia and Australia         67.376220\n",
       "Kamchatka and Mainland Asia     66.795652\n",
       "Kuril Islands                   66.030000\n",
       "Africa and Red Sea              56.259370\n",
       "Name: Life expectancy at birth, dtype: float64"
      ]
     },
     "execution_count": 20,
     "metadata": {},
     "output_type": "execute_result"
    }
   ],
   "source": [
    "#  What is the mean life expectancy in the GVP-defined regions?\n",
    "gvp_factbook_regions = gvp_factbook.groupby('Region')\n",
    "gvp_factbook_regions['Life expectancy at birth'].mean().sort_values(ascending=False)"
   ]
  },
  {
   "cell_type": "markdown",
   "metadata": {},
   "source": [
    "### Exporting data"
   ]
  },
  {
   "cell_type": "code",
   "execution_count": 21,
   "metadata": {},
   "outputs": [
    {
     "name": "stdout",
     "output_type": "stream",
     "text": [
      "['Snaefellsjökull', 'Helgrindur', 'Ljósufjöll', 'Reykjanes', 'Krísuvík', 'Brennisteinsfjöll', 'Hengill', 'Hrómundartindur', 'Grímsnes', 'Prestahnukur', 'Hveravellir', 'Hofsjökull', 'Vestmannaeyjar', 'Eyjafjallajökull', 'Katla', 'Tindfjallajökull', 'Torfajökull', 'Hekla', 'Grímsvötn', 'Bárdarbunga', 'Tungnafellsjökull', 'Kverkfjöll', 'Askja', 'Fremrinamur', 'Krafla', 'Theistareykjarbunga', 'Tjörnes Fracture Zone', 'Öraefajökull', 'Esjufjöll', 'Kolbeinsey Ridge']\n"
     ]
    }
   ],
   "source": [
    "#  A Pandas Series (single column or row) can be exported as a list\n",
    "iceland_volcanoes = gvp_names.loc[gvp_names['Country'] == 'Iceland', ['Latitude', 'Longitude']] \n",
    "volcano_names = iceland_volcanoes.index.tolist()\n",
    "print(volcano_names)"
   ]
  },
  {
   "cell_type": "code",
   "execution_count": 22,
   "metadata": {},
   "outputs": [
    {
     "name": "stdout",
     "output_type": "stream",
     "text": [
      "[64.8, 64.87, 64.87, 63.88, 63.93, 63.92, 64.08, 64.073, 64.03, 64.6, 64.75, 64.78, 63.43, 63.63, 63.63, 63.78, 63.92, 63.98, 64.42, 64.63, 64.73, 64.65, 65.03, 65.43, 65.73, 65.88, 66.3, 64.0, 64.27, 66.67]\n"
     ]
    }
   ],
   "source": [
    "#  Convert a column to a list\n",
    "volcano_latitudes = iceland_volcanoes['Latitude'].tolist()\n",
    "print(volcano_latitudes)"
   ]
  },
  {
   "cell_type": "code",
   "execution_count": 23,
   "metadata": {},
   "outputs": [
    {
     "name": "stdout",
     "output_type": "stream",
     "text": [
      "[65.03, -16.75]\n"
     ]
    }
   ],
   "source": [
    "#  Convert a row to a list\n",
    "askja_lat_lon = iceland_volcanoes.loc['Askja'].tolist()\n",
    "print(askja_lat_lon)"
   ]
  },
  {
   "cell_type": "code",
   "execution_count": 24,
   "metadata": {},
   "outputs": [
    {
     "name": "stdout",
     "output_type": "stream",
     "text": [
      "{'Longitude': [-23.78, -23.25, -22.23, -22.5, -22.1, -21.83, -21.32, -21.202, -20.87, -20.58, -19.98, -18.92, -20.28, -19.62, -19.05, -19.57, -19.17, -19.7, -17.33, -17.53, -17.92, -16.72, -16.75, -16.65, -16.78, -16.83, -17.1, -16.65, -16.65, -18.5], 'Latitude': [64.8, 64.87, 64.87, 63.88, 63.93, 63.92, 64.08, 64.073, 64.03, 64.6, 64.75, 64.78, 63.43, 63.63, 63.63, 63.78, 63.92, 63.98, 64.42, 64.63, 64.73, 64.65, 65.03, 65.43, 65.73, 65.88, 66.3, 64.0, 64.27, 66.67]}\n"
     ]
    }
   ],
   "source": [
    "#  A Pandas Dataframe (multiple columns) can be exported as a dictionary of lists\n",
    "iceland_latlons = iceland_volcanoes[['Longitude', 'Latitude']]\n",
    "iceland_latlons = iceland_latlons.to_dict('list')\n",
    "print(iceland_latlons)"
   ]
  },
  {
   "cell_type": "code",
   "execution_count": 25,
   "metadata": {},
   "outputs": [],
   "source": [
    "#  Data can be exported to files with .to_csv, .to_excel, .to_latex commands.\n",
    "#  There are options to control the format of dates and floating point numbers.\n",
    "iceland_volcanoes = gvp_names.loc[gvp_names['Country'] == 'Iceland', ['Latitude', 'Longitude']]\n",
    "iceland_volcanoes.to_csv('Icelandic_volcano_locations.csv', float_format='%.2f')\n",
    "# Check the working directory to see the file"
   ]
  },
  {
   "cell_type": "markdown",
   "metadata": {},
   "source": [
    "# Exercises"
   ]
  },
  {
   "cell_type": "markdown",
   "metadata": {},
   "source": [
    "1. Export a csv file with a list of the names and locations of stratovolcanoes over 2500 m in South America.\n",
    "2. What proportion of countries list volcanoes as a natural hazard?  (hint .str.contains('volcan.*')"
   ]
  }
 ],
 "metadata": {
  "kernelspec": {
   "display_name": "Python 3",
   "language": "python",
   "name": "python3"
  },
  "language_info": {
   "codemirror_mode": {
    "name": "ipython",
    "version": 3
   },
   "file_extension": ".py",
   "mimetype": "text/x-python",
   "name": "python",
   "nbconvert_exporter": "python",
   "pygments_lexer": "ipython3",
   "version": "3.8.10"
  }
 },
 "nbformat": 4,
 "nbformat_minor": 1
}
