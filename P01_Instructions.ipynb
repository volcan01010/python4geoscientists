{
 "metadata": {
  "name": "",
  "signature": "sha256:b50804b63f21abdad274d95f302c745ffbc6c92ef31482658b70ac0d57d01f4c"
 },
 "nbformat": 3,
 "nbformat_minor": 0,
 "worksheets": [
  {
   "cells": [
    {
     "cell_type": "heading",
     "level": 1,
     "metadata": {},
     "source": [
      "P01 - Instructions"
     ]
    },
    {
     "cell_type": "heading",
     "level": 3,
     "metadata": {},
     "source": [
      "Getting started"
     ]
    },
    {
     "cell_type": "markdown",
     "metadata": {},
     "source": [
      "1.  Download the following file:\n",
      "\n",
      "    +  [http://www.geos.ed.ac.uk/~jsteven5/pythondata.zip](http://www.geos.ed.ac.uk/~jsteven5/pythondata.zip)\n",
      "\n",
      "    and unzip it somewhere easy to find (e.g. the desktop).\n",
      "2.  Open the newly-created folder, then open *P01_Instructions.html* in your web browser to see a local copy of this page.\n",
      "3.  Start *Spyder* and set the working directory to your chosen directory (menu in top right)\n",
      "4.  Open local copies of the instructions for each of the sections using the following links:\n",
      "    +  [P01_Instructions.html](P01_Instructions.html)\n",
      "    +  [P02_Multiple_files.html](P02_Multiple_files.html)\n",
      "    +  [P03_Time_series.html](P03_Time_series.html)\n",
      "    +  [P04_Data_tables.html](P04_Data_tables.html)\n",
      "    +  [P05_Plotting_maps.html](P05_Plotting_maps.html)\n",
      "5.  Open the equivalent *.py* files in the Spyder editor.  You can send the instructions from each 'cell' within the file to the current interpreter by highlighting the code and pressing *F9*.  Newer versions of Spyder allow 'cells' in the editor to be run with *shift-enter*.\n",
      "6.  Follow along with the demonstration, then experiment with changing values and try the exercises, which increase in difficulty."
     ]
    },
    {
     "cell_type": "heading",
     "level": 3,
     "metadata": {},
     "source": [
      "Getting help"
     ]
    },
    {
     "cell_type": "markdown",
     "metadata": {},
     "source": [
      "The following links point to useful information:\n",
      "\n",
      "+    [Matplotlib gallery](http://matplotlib.org/gallery.html): Look for a plot you like, then check out the source code.\n",
      "+    [Python String Format Cookbook](https://mkaz.com/2012/10/10/python-string-format/): Reference for string format codes.\n",
      "+    [strftime.org](http://strftime.org): Reference for datetime string format codes.\n"
     ]
    }
   ],
   "metadata": {}
  }
 ]
}