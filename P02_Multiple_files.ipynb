{
 "metadata": {
  "name": "",
  "signature": "sha256:0fdb0893ac2327c4aa291031af71ee0d4a885ce0ff8b2011ca677cbc4c86fd9d"
 },
 "nbformat": 3,
 "nbformat_minor": 0,
 "worksheets": [
  {
   "cells": [
    {
     "cell_type": "heading",
     "level": 1,
     "metadata": {},
     "source": [
      "P01 - Handling from multiple files"
     ]
    },
    {
     "cell_type": "markdown",
     "metadata": {},
     "source": [
      "This section revises how to read files and write functions.  It shows how to apply the same code to multiple files.  Examples of curve-fitting are used."
     ]
    },
    {
     "cell_type": "heading",
     "level": 3,
     "metadata": {},
     "source": [
      "Setting up"
     ]
    },
    {
     "cell_type": "code",
     "collapsed": false,
     "input": [
      "# Import modules + check versions\n",
      "import os\n",
      "import sys\n",
      "import pandas as pd\n",
      "import numpy as np\n",
      "import matplotlib.pyplot as plt\n",
      "from scipy.stats import linregress\n",
      "#Inline plots for IPython notebooks\n",
      "#%matplotlib inline\n",
      "print 'Python: ' + sys.version\n",
      "print 'Pandas: ' + pd.__version__\n",
      "print 'Numpy: ' + np.__version__\n",
      "from matplotlib import __version__ as mplv\n",
      "print 'Matplotlib: ' + mplv\n",
      "\n",
      "# Setup working directory\n",
      "wdir = '/home/jsteven5/Teaching/Innovative Learning Week/Innovative Learning - Python/DataAnalysis'\n",
      "os.chdir(wdir)"
     ],
     "language": "python",
     "metadata": {},
     "outputs": []
    },
    {
     "cell_type": "heading",
     "level": 3,
     "metadata": {},
     "source": [
      "The **os** module"
     ]
    },
    {
     "cell_type": "code",
     "collapsed": false,
     "input": [
      "#  Get current directory\n",
      "os.getcwd()"
     ],
     "language": "python",
     "metadata": {},
     "outputs": []
    },
    {
     "cell_type": "code",
     "collapsed": false,
     "input": [
      "#  Join folder and file names to create new paths, using correct separator for your operating system\n",
      "datadir = os.path.join( wdir, 'data_files' )\n",
      "print datadir"
     ],
     "language": "python",
     "metadata": {},
     "outputs": []
    },
    {
     "cell_type": "code",
     "collapsed": false,
     "input": [
      "#  Extract file name from a full path\n",
      "filepath = '/long/path/to/myfile.txt'\n",
      "os.path.basename(filepath)"
     ],
     "language": "python",
     "metadata": {},
     "outputs": []
    },
    {
     "cell_type": "code",
     "collapsed": false,
     "input": [
      "#  List directory contents\n",
      "filelist = os.listdir(datadir)\n",
      "filelist"
     ],
     "language": "python",
     "metadata": {},
     "outputs": []
    },
    {
     "cell_type": "code",
     "collapsed": false,
     "input": [
      "#  List data files\n",
      "datafiles = []\n",
      "for filename in filelist:\n",
      "    if filename.endswith('.data'):\n",
      "        datafiles.append(filename)\n",
      "datafiles.sort()\n",
      "datafiles"
     ],
     "language": "python",
     "metadata": {},
     "outputs": []
    },
    {
     "cell_type": "heading",
     "level": 3,
     "metadata": {},
     "source": [
      "Reading the datafiles"
     ]
    },
    {
     "cell_type": "code",
     "collapsed": false,
     "input": [
      "#  A simple script to read a data file\n",
      "x = []\n",
      "y = []\n",
      "filepath = os.path.join(datadir, 'Sample001.data')\n",
      "f = open(filepath, 'rt')\n",
      "groupline = f.readline()  # Skip first line\n",
      "for line in f.readlines():\n",
      "    cols = line.split(',')\n",
      "    x.append(cols[0])\n",
      "    y.append(cols[1])\n",
      "x = np.array(x, dtype=float)\n",
      "y = np.array(y, dtype=float)\n",
      "print x\n",
      "print y"
     ],
     "language": "python",
     "metadata": {},
     "outputs": []
    },
    {
     "cell_type": "code",
     "collapsed": false,
     "input": [
      "#  Code that is often reused can be put in a function.\n",
      "def read_data_file(filepath):\n",
      "    \"\"\"Reads a SampleXXX.data file, returning x and y as numpy arrays.\"\"\"\n",
      "    x = []\n",
      "    y = []\n",
      "    f = open(filepath, 'rt')\n",
      "    groupline = f.readline()  # Skip first line\n",
      "    for line in f.readlines():\n",
      "        cols = line.split(',')\n",
      "        x.append(cols[0])\n",
      "        y.append(cols[1])\n",
      "    x = np.array(x, dtype=float)\n",
      "    y = np.array(y, dtype=float)\n",
      "    return x, y"
     ],
     "language": "python",
     "metadata": {},
     "outputs": []
    },
    {
     "cell_type": "code",
     "collapsed": false,
     "input": [
      "#  Read a data file using the function\n",
      "filepath = os.path.join(datadir, 'Sample001.data')\n",
      "x, y = read_data_file(filepath)\n",
      "print x\n",
      "print y"
     ],
     "language": "python",
     "metadata": {},
     "outputs": []
    },
    {
     "cell_type": "code",
     "collapsed": false,
     "input": [
      "#  Plot the data\n",
      "plt.scatter(x, y)"
     ],
     "language": "python",
     "metadata": {},
     "outputs": []
    },
    {
     "cell_type": "heading",
     "level": 3,
     "metadata": {},
     "source": [
      "Calculating the best fit line"
     ]
    },
    {
     "cell_type": "code",
     "collapsed": false,
     "input": [
      "#  Use the linregress function from the scipy.stats module\n",
      "slope, intercept, r_value, p_value, std_err = linregress(x, y)\n",
      "os.path.basename(filename)\n",
      "#  See https://mkaz.com/2012/10/10/python-string-format/ for string format hints\n",
      "results_text = \"\"\"\n",
      "Filename: {filename}\n",
      "Slope: {slope:.2f}\n",
      "Intercept: {intercept:.2f}\n",
      "R-squared: {r2:.2f}\n",
      "\"\"\".format(filename=filename,slope=slope, intercept=intercept, r2=r_value**2)\n",
      "print results_text"
     ],
     "language": "python",
     "metadata": {},
     "outputs": []
    },
    {
     "cell_type": "code",
     "collapsed": false,
     "input": [
      "#  Calculate coordinates for the ends of the best fit line.\n",
      "fitted_x = np.array([x.min(), x.max()])  # Take these from the original data\n",
      "fitted_y = slope*fitted_x + intercept"
     ],
     "language": "python",
     "metadata": {},
     "outputs": []
    },
    {
     "cell_type": "code",
     "collapsed": false,
     "input": [
      "#  Plot the best fit line\n",
      "plt.scatter(x, y)\n",
      "plt.plot(fitted_x, fitted_y, 'r-')"
     ],
     "language": "python",
     "metadata": {},
     "outputs": []
    },
    {
     "cell_type": "code",
     "collapsed": false,
     "input": [
      "#  Code that is reused can be put into a function\n",
      "def calculate_best_fit(x, y):\n",
      "    \"\"\"Uses linear regression to calculate best fit line, returning fitted X and Y arrays for plotting.\"\"\"\n",
      "    slope, intercept, r_value, p_value, std_err = linregress(x, y)\n",
      "    fitted_x = np.array([x.min(), x.max()])\n",
      "    fitted_y = slope*fitted_x + intercept   \n",
      "    return fitted_x, fitted_y"
     ],
     "language": "python",
     "metadata": {},
     "outputs": []
    },
    {
     "cell_type": "heading",
     "level": 3,
     "metadata": {},
     "source": [
      "Combine functions into single plotting function"
     ]
    },
    {
     "cell_type": "code",
     "collapsed": false,
     "input": [
      "#  Function to plot figure\n",
      "def plot_sample_fit(filepath):\n",
      "    \"\"\"Reads data file, calculates fit to x and y, plots and saves figure.\"\"\"\n",
      "    x, y = read_data_file(filepath)  # Uses previous function\n",
      "    fitted_x, fitted_y = calculate_best_fit(x, y)  # Uses previous function\n",
      "    plt.figure()\n",
      "    plt.plot(x, y, 'o')\n",
      "    plt.plot(fitted_x, fitted_y, '-rx', label='Fitted')\n",
      "    plt.ylim(0, 80)\n",
      "    plt.xlabel('x')\n",
      "    plt.ylabel('y')\n",
      "    filename = os.path.basename(filepath)\n",
      "    plt.title(filename[:-5])\n",
      "    figure_filename = filename.replace('.data', '.png')\n",
      "    plt.savefig(figure_filename)\n",
      "    plt.close()\n",
      "    return"
     ],
     "language": "python",
     "metadata": {},
     "outputs": []
    },
    {
     "cell_type": "code",
     "collapsed": false,
     "input": [
      "#  Plot all files\n",
      "for datafile in datafiles:\n",
      "    print datafile\n",
      "    datafilepath = os.path.join(datadir, datafile)\n",
      "    plot_sample_fit(datafilepath)"
     ],
     "language": "python",
     "metadata": {},
     "outputs": []
    },
    {
     "cell_type": "heading",
     "level": 1,
     "metadata": {},
     "source": [
      "Exercises"
     ]
    },
    {
     "cell_type": "code",
     "collapsed": false,
     "input": [
      "#  1. Modify plot_sample_fit to save your figures as pdf files\n",
      "#  2. Modify the calculate_best_fit so that it also returns results_text\n",
      "#  3. Modify plot_sample_fit to use plt.text to write results_text onto your graph\n",
      "#  4. The data belong to two groups (open a Sample file to see).  What is the average\n",
      "#     gradient and intercept of each group?"
     ],
     "language": "python",
     "metadata": {},
     "outputs": []
    }
   ],
   "metadata": {}
  }
 ]
}